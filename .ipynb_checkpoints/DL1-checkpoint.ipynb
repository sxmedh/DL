{
  "cells": [
    {
      "cell_type": "markdown",
      "metadata": {
        "papermill": {
          "duration": 0.022253,
          "end_time": "2022-08-10T01:26:28.177861",
          "exception": false,
          "start_time": "2022-08-10T01:26:28.155608",
          "status": "completed"
        },
        "tags": [],
        "id": "F0tbTEX_4zSy"
      },
      "source": [
        "# **Practical 1**\n",
        "**Linear regression by using Deep Neural network:** Implement Boston housing price prediction problem by Linear regression using Deep Neural network. Use Boston House price prediction dataset."
      ]
    },
    {
      "cell_type": "markdown",
      "metadata": {
        "papermill": {
          "duration": 0.022063,
          "end_time": "2022-08-10T01:26:28.266437",
          "exception": false,
          "start_time": "2022-08-10T01:26:28.244374",
          "status": "completed"
        },
        "tags": [],
        "id": "uNcRoUAx4zS0"
      },
      "source": [
        "\n",
        "### Importing libraries and the dataset\n"
      ]
    },
    {
      "cell_type": "code",
      "execution_count": null,
      "metadata": {
        "_cell_guid": "b1076dfc-b9ad-4769-8c92-a6c4dae69d19",
        "_uuid": "8f2839f25d086af736a60e9eeb907d3b93b6e0e5",
        "papermill": {
          "duration": 0.029676,
          "end_time": "2022-08-10T01:26:28.318711",
          "exception": false,
          "start_time": "2022-08-10T01:26:28.289035",
          "status": "completed"
        },
        "tags": [],
        "id": "EilQf4Gs4zS1"
      },
      "outputs": [],
      "source": [
        "#Importing the pandas for data processing and numpy for numerical computing\n",
        "import numpy as np\n",
        "import pandas as pd\n",
        "import matplotlib.pyplot as plt\n"
      ]
    },
    {
      "cell_type": "code",
      "execution_count": null,
      "metadata": {
        "papermill": {
          "duration": 0.865609,
          "end_time": "2022-08-10T01:26:29.208203",
          "exception": false,
          "start_time": "2022-08-10T01:26:28.342594",
          "status": "completed"
        },
        "scrolled": true,
        "tags": [],
        "id": "LUS6-bub4zS2",
        "outputId": "7ec2cf73-4610-4ea8-bfef-a3940aea4fa9"
      },
      "outputs": [
        {
          "name": "stderr",
          "output_type": "stream",
          "text": [
            "C:\\Users\\Yashwardhan Deshmukh\\anaconda3\\lib\\site-packages\\sklearn\\datasets\\_openml.py:932: FutureWarning: The default value of `parser` will change from `'liac-arff'` to `'auto'` in 1.4. You can set `parser='auto'` to silence this warning. Therefore, an `ImportError` will be raised from 1.4 if the dataset is dense and pandas is not installed. Note that the pandas parser may return different data types. See the Notes Section in fetch_openml's API doc for details.\n",
            "  warn(\n"
          ]
        }
      ],
      "source": [
        "# Importing the Boston Housing dataset from the sklearn\n",
        "from sklearn.datasets import fetch_openml\n",
        "\n",
        "# Load the Boston housing dataset from OpenML\n",
        "boston = fetch_openml(data_id=531)"
      ]
    },
    {
      "cell_type": "code",
      "execution_count": null,
      "metadata": {
        "papermill": {
          "duration": 0.032011,
          "end_time": "2022-08-10T01:26:29.262511",
          "exception": false,
          "start_time": "2022-08-10T01:26:29.230500",
          "status": "completed"
        },
        "tags": [],
        "id": "CDDNBd-c4zS2"
      },
      "outputs": [],
      "source": [
        "#Converting the data into pandas dataframe\n",
        "data = pd.DataFrame(boston.data)"
      ]
    },
    {
      "cell_type": "markdown",
      "metadata": {
        "papermill": {
          "duration": 0.022779,
          "end_time": "2022-08-10T01:26:29.308599",
          "exception": false,
          "start_time": "2022-08-10T01:26:29.285820",
          "status": "completed"
        },
        "tags": [],
        "id": "iRwZSh4d4zS3"
      },
      "source": [
        "### First look at the dataset"
      ]
    },
    {
      "cell_type": "code",
      "execution_count": null,
      "metadata": {
        "papermill": {
          "duration": 0.04928,
          "end_time": "2022-08-10T01:26:29.381575",
          "exception": false,
          "start_time": "2022-08-10T01:26:29.332295",
          "status": "completed"
        },
        "tags": [],
        "id": "ta667O7t4zS3",
        "outputId": "e1590c3f-6b8e-42d0-f9c0-963e6988d984"
      },
      "outputs": [
        {
          "data": {
            "text/html": [
              "<div>\n",
              "<style scoped>\n",
              "    .dataframe tbody tr th:only-of-type {\n",
              "        vertical-align: middle;\n",
              "    }\n",
              "\n",
              "    .dataframe tbody tr th {\n",
              "        vertical-align: top;\n",
              "    }\n",
              "\n",
              "    .dataframe thead th {\n",
              "        text-align: right;\n",
              "    }\n",
              "</style>\n",
              "<table border=\"1\" class=\"dataframe\">\n",
              "  <thead>\n",
              "    <tr style=\"text-align: right;\">\n",
              "      <th></th>\n",
              "      <th>CRIM</th>\n",
              "      <th>ZN</th>\n",
              "      <th>INDUS</th>\n",
              "      <th>CHAS</th>\n",
              "      <th>NOX</th>\n",
              "      <th>RM</th>\n",
              "      <th>AGE</th>\n",
              "      <th>DIS</th>\n",
              "      <th>RAD</th>\n",
              "      <th>TAX</th>\n",
              "      <th>PTRATIO</th>\n",
              "      <th>B</th>\n",
              "      <th>LSTAT</th>\n",
              "    </tr>\n",
              "  </thead>\n",
              "  <tbody>\n",
              "    <tr>\n",
              "      <th>0</th>\n",
              "      <td>0.00632</td>\n",
              "      <td>18.0</td>\n",
              "      <td>2.31</td>\n",
              "      <td>0</td>\n",
              "      <td>0.538</td>\n",
              "      <td>6.575</td>\n",
              "      <td>65.2</td>\n",
              "      <td>4.0900</td>\n",
              "      <td>1</td>\n",
              "      <td>296.0</td>\n",
              "      <td>15.3</td>\n",
              "      <td>396.90</td>\n",
              "      <td>4.98</td>\n",
              "    </tr>\n",
              "    <tr>\n",
              "      <th>1</th>\n",
              "      <td>0.02731</td>\n",
              "      <td>0.0</td>\n",
              "      <td>7.07</td>\n",
              "      <td>0</td>\n",
              "      <td>0.469</td>\n",
              "      <td>6.421</td>\n",
              "      <td>78.9</td>\n",
              "      <td>4.9671</td>\n",
              "      <td>2</td>\n",
              "      <td>242.0</td>\n",
              "      <td>17.8</td>\n",
              "      <td>396.90</td>\n",
              "      <td>9.14</td>\n",
              "    </tr>\n",
              "    <tr>\n",
              "      <th>2</th>\n",
              "      <td>0.02729</td>\n",
              "      <td>0.0</td>\n",
              "      <td>7.07</td>\n",
              "      <td>0</td>\n",
              "      <td>0.469</td>\n",
              "      <td>7.185</td>\n",
              "      <td>61.1</td>\n",
              "      <td>4.9671</td>\n",
              "      <td>2</td>\n",
              "      <td>242.0</td>\n",
              "      <td>17.8</td>\n",
              "      <td>392.83</td>\n",
              "      <td>4.03</td>\n",
              "    </tr>\n",
              "    <tr>\n",
              "      <th>3</th>\n",
              "      <td>0.03237</td>\n",
              "      <td>0.0</td>\n",
              "      <td>2.18</td>\n",
              "      <td>0</td>\n",
              "      <td>0.458</td>\n",
              "      <td>6.998</td>\n",
              "      <td>45.8</td>\n",
              "      <td>6.0622</td>\n",
              "      <td>3</td>\n",
              "      <td>222.0</td>\n",
              "      <td>18.7</td>\n",
              "      <td>394.63</td>\n",
              "      <td>2.94</td>\n",
              "    </tr>\n",
              "    <tr>\n",
              "      <th>4</th>\n",
              "      <td>0.06905</td>\n",
              "      <td>0.0</td>\n",
              "      <td>2.18</td>\n",
              "      <td>0</td>\n",
              "      <td>0.458</td>\n",
              "      <td>7.147</td>\n",
              "      <td>54.2</td>\n",
              "      <td>6.0622</td>\n",
              "      <td>3</td>\n",
              "      <td>222.0</td>\n",
              "      <td>18.7</td>\n",
              "      <td>396.90</td>\n",
              "      <td>5.33</td>\n",
              "    </tr>\n",
              "  </tbody>\n",
              "</table>\n",
              "</div>"
            ],
            "text/plain": [
              "      CRIM    ZN  INDUS CHAS    NOX     RM   AGE     DIS RAD    TAX  PTRATIO  \\\n",
              "0  0.00632  18.0   2.31    0  0.538  6.575  65.2  4.0900   1  296.0     15.3   \n",
              "1  0.02731   0.0   7.07    0  0.469  6.421  78.9  4.9671   2  242.0     17.8   \n",
              "2  0.02729   0.0   7.07    0  0.469  7.185  61.1  4.9671   2  242.0     17.8   \n",
              "3  0.03237   0.0   2.18    0  0.458  6.998  45.8  6.0622   3  222.0     18.7   \n",
              "4  0.06905   0.0   2.18    0  0.458  7.147  54.2  6.0622   3  222.0     18.7   \n",
              "\n",
              "        B  LSTAT  \n",
              "0  396.90   4.98  \n",
              "1  396.90   9.14  \n",
              "2  392.83   4.03  \n",
              "3  394.63   2.94  \n",
              "4  396.90   5.33  "
            ]
          },
          "execution_count": 4,
          "metadata": {},
          "output_type": "execute_result"
        }
      ],
      "source": [
        "#First look at the data\n",
        "data.head()"
      ]
    },
    {
      "cell_type": "code",
      "execution_count": null,
      "metadata": {
        "papermill": {
          "duration": 0.030084,
          "end_time": "2022-08-10T01:26:29.436215",
          "exception": false,
          "start_time": "2022-08-10T01:26:29.406131",
          "status": "completed"
        },
        "tags": [],
        "id": "P5pE31zt4zS3"
      },
      "outputs": [],
      "source": [
        "#Adding the feature names to the dataframe\n",
        "data.columns = boston.feature_names"
      ]
    },
    {
      "cell_type": "code",
      "execution_count": null,
      "metadata": {
        "papermill": {
          "duration": 0.036037,
          "end_time": "2022-08-10T01:26:29.495888",
          "exception": false,
          "start_time": "2022-08-10T01:26:29.459851",
          "status": "completed"
        },
        "tags": [],
        "id": "Qeemu-Fw4zS4"
      },
      "outputs": [],
      "source": [
        "#Adding the target variable to the dataset\n",
        "data['PRICE'] = boston.target"
      ]
    },
    {
      "cell_type": "code",
      "execution_count": null,
      "metadata": {
        "papermill": {
          "duration": 0.048496,
          "end_time": "2022-08-10T01:26:29.569236",
          "exception": false,
          "start_time": "2022-08-10T01:26:29.520740",
          "status": "completed"
        },
        "tags": [],
        "id": "DXMxCqgQ4zS4",
        "outputId": "ea467ea3-b30a-478b-ed4c-380ca17a5963"
      },
      "outputs": [
        {
          "data": {
            "text/html": [
              "<div>\n",
              "<style scoped>\n",
              "    .dataframe tbody tr th:only-of-type {\n",
              "        vertical-align: middle;\n",
              "    }\n",
              "\n",
              "    .dataframe tbody tr th {\n",
              "        vertical-align: top;\n",
              "    }\n",
              "\n",
              "    .dataframe thead th {\n",
              "        text-align: right;\n",
              "    }\n",
              "</style>\n",
              "<table border=\"1\" class=\"dataframe\">\n",
              "  <thead>\n",
              "    <tr style=\"text-align: right;\">\n",
              "      <th></th>\n",
              "      <th>CRIM</th>\n",
              "      <th>ZN</th>\n",
              "      <th>INDUS</th>\n",
              "      <th>CHAS</th>\n",
              "      <th>NOX</th>\n",
              "      <th>RM</th>\n",
              "      <th>AGE</th>\n",
              "      <th>DIS</th>\n",
              "      <th>RAD</th>\n",
              "      <th>TAX</th>\n",
              "      <th>PTRATIO</th>\n",
              "      <th>B</th>\n",
              "      <th>LSTAT</th>\n",
              "      <th>PRICE</th>\n",
              "    </tr>\n",
              "  </thead>\n",
              "  <tbody>\n",
              "    <tr>\n",
              "      <th>0</th>\n",
              "      <td>0.00632</td>\n",
              "      <td>18.0</td>\n",
              "      <td>2.31</td>\n",
              "      <td>0</td>\n",
              "      <td>0.538</td>\n",
              "      <td>6.575</td>\n",
              "      <td>65.2</td>\n",
              "      <td>4.0900</td>\n",
              "      <td>1</td>\n",
              "      <td>296.0</td>\n",
              "      <td>15.3</td>\n",
              "      <td>396.90</td>\n",
              "      <td>4.98</td>\n",
              "      <td>24.0</td>\n",
              "    </tr>\n",
              "    <tr>\n",
              "      <th>1</th>\n",
              "      <td>0.02731</td>\n",
              "      <td>0.0</td>\n",
              "      <td>7.07</td>\n",
              "      <td>0</td>\n",
              "      <td>0.469</td>\n",
              "      <td>6.421</td>\n",
              "      <td>78.9</td>\n",
              "      <td>4.9671</td>\n",
              "      <td>2</td>\n",
              "      <td>242.0</td>\n",
              "      <td>17.8</td>\n",
              "      <td>396.90</td>\n",
              "      <td>9.14</td>\n",
              "      <td>21.6</td>\n",
              "    </tr>\n",
              "    <tr>\n",
              "      <th>2</th>\n",
              "      <td>0.02729</td>\n",
              "      <td>0.0</td>\n",
              "      <td>7.07</td>\n",
              "      <td>0</td>\n",
              "      <td>0.469</td>\n",
              "      <td>7.185</td>\n",
              "      <td>61.1</td>\n",
              "      <td>4.9671</td>\n",
              "      <td>2</td>\n",
              "      <td>242.0</td>\n",
              "      <td>17.8</td>\n",
              "      <td>392.83</td>\n",
              "      <td>4.03</td>\n",
              "      <td>34.7</td>\n",
              "    </tr>\n",
              "    <tr>\n",
              "      <th>3</th>\n",
              "      <td>0.03237</td>\n",
              "      <td>0.0</td>\n",
              "      <td>2.18</td>\n",
              "      <td>0</td>\n",
              "      <td>0.458</td>\n",
              "      <td>6.998</td>\n",
              "      <td>45.8</td>\n",
              "      <td>6.0622</td>\n",
              "      <td>3</td>\n",
              "      <td>222.0</td>\n",
              "      <td>18.7</td>\n",
              "      <td>394.63</td>\n",
              "      <td>2.94</td>\n",
              "      <td>33.4</td>\n",
              "    </tr>\n",
              "    <tr>\n",
              "      <th>4</th>\n",
              "      <td>0.06905</td>\n",
              "      <td>0.0</td>\n",
              "      <td>2.18</td>\n",
              "      <td>0</td>\n",
              "      <td>0.458</td>\n",
              "      <td>7.147</td>\n",
              "      <td>54.2</td>\n",
              "      <td>6.0622</td>\n",
              "      <td>3</td>\n",
              "      <td>222.0</td>\n",
              "      <td>18.7</td>\n",
              "      <td>396.90</td>\n",
              "      <td>5.33</td>\n",
              "      <td>36.2</td>\n",
              "    </tr>\n",
              "  </tbody>\n",
              "</table>\n",
              "</div>"
            ],
            "text/plain": [
              "      CRIM    ZN  INDUS CHAS    NOX     RM   AGE     DIS RAD    TAX  PTRATIO  \\\n",
              "0  0.00632  18.0   2.31    0  0.538  6.575  65.2  4.0900   1  296.0     15.3   \n",
              "1  0.02731   0.0   7.07    0  0.469  6.421  78.9  4.9671   2  242.0     17.8   \n",
              "2  0.02729   0.0   7.07    0  0.469  7.185  61.1  4.9671   2  242.0     17.8   \n",
              "3  0.03237   0.0   2.18    0  0.458  6.998  45.8  6.0622   3  222.0     18.7   \n",
              "4  0.06905   0.0   2.18    0  0.458  7.147  54.2  6.0622   3  222.0     18.7   \n",
              "\n",
              "        B  LSTAT  PRICE  \n",
              "0  396.90   4.98   24.0  \n",
              "1  396.90   9.14   21.6  \n",
              "2  392.83   4.03   34.7  \n",
              "3  394.63   2.94   33.4  \n",
              "4  396.90   5.33   36.2  "
            ]
          },
          "execution_count": 7,
          "metadata": {},
          "output_type": "execute_result"
        }
      ],
      "source": [
        "#Looking at the data with names and target variable\n",
        "data.head()"
      ]
    },
    {
      "cell_type": "code",
      "execution_count": null,
      "metadata": {
        "papermill": {
          "duration": 0.033075,
          "end_time": "2022-08-10T01:26:29.627638",
          "exception": false,
          "start_time": "2022-08-10T01:26:29.594563",
          "status": "completed"
        },
        "tags": [],
        "id": "MIu3p0gh4zS5",
        "outputId": "fb2055db-dfe3-4feb-c9cc-b3d613e7e6ac"
      },
      "outputs": [
        {
          "name": "stdout",
          "output_type": "stream",
          "text": [
            "(506, 14)\n"
          ]
        }
      ],
      "source": [
        "#Shape of the data\n",
        "print(data.shape)"
      ]
    },
    {
      "cell_type": "code",
      "execution_count": null,
      "metadata": {
        "papermill": {
          "duration": 0.037251,
          "end_time": "2022-08-10T01:26:29.691056",
          "exception": false,
          "start_time": "2022-08-10T01:26:29.653805",
          "status": "completed"
        },
        "tags": [],
        "id": "4xCPQBML4zS5",
        "outputId": "905010d0-ec9b-43df-c61e-da52e048ff0d"
      },
      "outputs": [
        {
          "data": {
            "text/plain": [
              "CRIM       0\n",
              "ZN         0\n",
              "INDUS      0\n",
              "CHAS       0\n",
              "NOX        0\n",
              "RM         0\n",
              "AGE        0\n",
              "DIS        0\n",
              "RAD        0\n",
              "TAX        0\n",
              "PTRATIO    0\n",
              "B          0\n",
              "LSTAT      0\n",
              "PRICE      0\n",
              "dtype: int64"
            ]
          },
          "execution_count": 9,
          "metadata": {},
          "output_type": "execute_result"
        }
      ],
      "source": [
        "#Checking the null values in the dataset\n",
        "data.isnull().sum()"
      ]
    },
    {
      "cell_type": "markdown",
      "metadata": {
        "papermill": {
          "duration": 0.025871,
          "end_time": "2022-08-10T01:26:29.743681",
          "exception": false,
          "start_time": "2022-08-10T01:26:29.717810",
          "status": "completed"
        },
        "tags": [],
        "id": "ZHORBGWl4zS6"
      },
      "source": [
        "No null values in the dataset, no missing value treatement needed"
      ]
    },
    {
      "cell_type": "code",
      "execution_count": null,
      "metadata": {
        "papermill": {
          "duration": 0.086686,
          "end_time": "2022-08-10T01:26:29.856529",
          "exception": false,
          "start_time": "2022-08-10T01:26:29.769843",
          "status": "completed"
        },
        "tags": [],
        "id": "AasBEx8d4zS6",
        "outputId": "919ff7d2-494d-4dd4-e0bf-a05f49ff7775"
      },
      "outputs": [
        {
          "data": {
            "text/html": [
              "<div>\n",
              "<style scoped>\n",
              "    .dataframe tbody tr th:only-of-type {\n",
              "        vertical-align: middle;\n",
              "    }\n",
              "\n",
              "    .dataframe tbody tr th {\n",
              "        vertical-align: top;\n",
              "    }\n",
              "\n",
              "    .dataframe thead th {\n",
              "        text-align: right;\n",
              "    }\n",
              "</style>\n",
              "<table border=\"1\" class=\"dataframe\">\n",
              "  <thead>\n",
              "    <tr style=\"text-align: right;\">\n",
              "      <th></th>\n",
              "      <th>CRIM</th>\n",
              "      <th>ZN</th>\n",
              "      <th>INDUS</th>\n",
              "      <th>NOX</th>\n",
              "      <th>RM</th>\n",
              "      <th>AGE</th>\n",
              "      <th>DIS</th>\n",
              "      <th>TAX</th>\n",
              "      <th>PTRATIO</th>\n",
              "      <th>B</th>\n",
              "      <th>LSTAT</th>\n",
              "      <th>PRICE</th>\n",
              "    </tr>\n",
              "  </thead>\n",
              "  <tbody>\n",
              "    <tr>\n",
              "      <th>count</th>\n",
              "      <td>506.000000</td>\n",
              "      <td>506.000000</td>\n",
              "      <td>506.000000</td>\n",
              "      <td>506.000000</td>\n",
              "      <td>506.000000</td>\n",
              "      <td>506.000000</td>\n",
              "      <td>506.000000</td>\n",
              "      <td>506.000000</td>\n",
              "      <td>506.000000</td>\n",
              "      <td>506.000000</td>\n",
              "      <td>506.000000</td>\n",
              "      <td>506.000000</td>\n",
              "    </tr>\n",
              "    <tr>\n",
              "      <th>mean</th>\n",
              "      <td>3.613524</td>\n",
              "      <td>11.363636</td>\n",
              "      <td>11.136779</td>\n",
              "      <td>0.554695</td>\n",
              "      <td>6.284634</td>\n",
              "      <td>68.574901</td>\n",
              "      <td>3.795043</td>\n",
              "      <td>408.237154</td>\n",
              "      <td>18.455534</td>\n",
              "      <td>356.674032</td>\n",
              "      <td>12.653063</td>\n",
              "      <td>22.532806</td>\n",
              "    </tr>\n",
              "    <tr>\n",
              "      <th>std</th>\n",
              "      <td>8.601545</td>\n",
              "      <td>23.322453</td>\n",
              "      <td>6.860353</td>\n",
              "      <td>0.115878</td>\n",
              "      <td>0.702617</td>\n",
              "      <td>28.148861</td>\n",
              "      <td>2.105710</td>\n",
              "      <td>168.537116</td>\n",
              "      <td>2.164946</td>\n",
              "      <td>91.294864</td>\n",
              "      <td>7.141062</td>\n",
              "      <td>9.197104</td>\n",
              "    </tr>\n",
              "    <tr>\n",
              "      <th>min</th>\n",
              "      <td>0.006320</td>\n",
              "      <td>0.000000</td>\n",
              "      <td>0.460000</td>\n",
              "      <td>0.385000</td>\n",
              "      <td>3.561000</td>\n",
              "      <td>2.900000</td>\n",
              "      <td>1.129600</td>\n",
              "      <td>187.000000</td>\n",
              "      <td>12.600000</td>\n",
              "      <td>0.320000</td>\n",
              "      <td>1.730000</td>\n",
              "      <td>5.000000</td>\n",
              "    </tr>\n",
              "    <tr>\n",
              "      <th>25%</th>\n",
              "      <td>0.082045</td>\n",
              "      <td>0.000000</td>\n",
              "      <td>5.190000</td>\n",
              "      <td>0.449000</td>\n",
              "      <td>5.885500</td>\n",
              "      <td>45.025000</td>\n",
              "      <td>2.100175</td>\n",
              "      <td>279.000000</td>\n",
              "      <td>17.400000</td>\n",
              "      <td>375.377500</td>\n",
              "      <td>6.950000</td>\n",
              "      <td>17.025000</td>\n",
              "    </tr>\n",
              "    <tr>\n",
              "      <th>50%</th>\n",
              "      <td>0.256510</td>\n",
              "      <td>0.000000</td>\n",
              "      <td>9.690000</td>\n",
              "      <td>0.538000</td>\n",
              "      <td>6.208500</td>\n",
              "      <td>77.500000</td>\n",
              "      <td>3.207450</td>\n",
              "      <td>330.000000</td>\n",
              "      <td>19.050000</td>\n",
              "      <td>391.440000</td>\n",
              "      <td>11.360000</td>\n",
              "      <td>21.200000</td>\n",
              "    </tr>\n",
              "    <tr>\n",
              "      <th>75%</th>\n",
              "      <td>3.677083</td>\n",
              "      <td>12.500000</td>\n",
              "      <td>18.100000</td>\n",
              "      <td>0.624000</td>\n",
              "      <td>6.623500</td>\n",
              "      <td>94.075000</td>\n",
              "      <td>5.188425</td>\n",
              "      <td>666.000000</td>\n",
              "      <td>20.200000</td>\n",
              "      <td>396.225000</td>\n",
              "      <td>16.955000</td>\n",
              "      <td>25.000000</td>\n",
              "    </tr>\n",
              "    <tr>\n",
              "      <th>max</th>\n",
              "      <td>88.976200</td>\n",
              "      <td>100.000000</td>\n",
              "      <td>27.740000</td>\n",
              "      <td>0.871000</td>\n",
              "      <td>8.780000</td>\n",
              "      <td>100.000000</td>\n",
              "      <td>12.126500</td>\n",
              "      <td>711.000000</td>\n",
              "      <td>22.000000</td>\n",
              "      <td>396.900000</td>\n",
              "      <td>37.970000</td>\n",
              "      <td>50.000000</td>\n",
              "    </tr>\n",
              "  </tbody>\n",
              "</table>\n",
              "</div>"
            ],
            "text/plain": [
              "             CRIM          ZN       INDUS         NOX          RM         AGE  \\\n",
              "count  506.000000  506.000000  506.000000  506.000000  506.000000  506.000000   \n",
              "mean     3.613524   11.363636   11.136779    0.554695    6.284634   68.574901   \n",
              "std      8.601545   23.322453    6.860353    0.115878    0.702617   28.148861   \n",
              "min      0.006320    0.000000    0.460000    0.385000    3.561000    2.900000   \n",
              "25%      0.082045    0.000000    5.190000    0.449000    5.885500   45.025000   \n",
              "50%      0.256510    0.000000    9.690000    0.538000    6.208500   77.500000   \n",
              "75%      3.677083   12.500000   18.100000    0.624000    6.623500   94.075000   \n",
              "max     88.976200  100.000000   27.740000    0.871000    8.780000  100.000000   \n",
              "\n",
              "              DIS         TAX     PTRATIO           B       LSTAT       PRICE  \n",
              "count  506.000000  506.000000  506.000000  506.000000  506.000000  506.000000  \n",
              "mean     3.795043  408.237154   18.455534  356.674032   12.653063   22.532806  \n",
              "std      2.105710  168.537116    2.164946   91.294864    7.141062    9.197104  \n",
              "min      1.129600  187.000000   12.600000    0.320000    1.730000    5.000000  \n",
              "25%      2.100175  279.000000   17.400000  375.377500    6.950000   17.025000  \n",
              "50%      3.207450  330.000000   19.050000  391.440000   11.360000   21.200000  \n",
              "75%      5.188425  666.000000   20.200000  396.225000   16.955000   25.000000  \n",
              "max     12.126500  711.000000   22.000000  396.900000   37.970000   50.000000  "
            ]
          },
          "execution_count": 10,
          "metadata": {},
          "output_type": "execute_result"
        }
      ],
      "source": [
        "#Checking the statistics of the data\n",
        "data.describe()"
      ]
    },
    {
      "cell_type": "markdown",
      "metadata": {
        "papermill": {
          "duration": 0.025796,
          "end_time": "2022-08-10T01:26:29.908342",
          "exception": false,
          "start_time": "2022-08-10T01:26:29.882546",
          "status": "completed"
        },
        "tags": [],
        "id": "UkxdkYxa4zS6"
      },
      "source": [
        "This is sometimes very useful, for example if you look at the CRIM the max is 88.97 and 75% of the value is below 3.677083 and mean is 3.613524 so it means the max values is actually an outlier or there are outliers present in the column"
      ]
    },
    {
      "cell_type": "code",
      "execution_count": null,
      "metadata": {
        "papermill": {
          "duration": 0.04482,
          "end_time": "2022-08-10T01:26:29.979615",
          "exception": false,
          "start_time": "2022-08-10T01:26:29.934795",
          "status": "completed"
        },
        "tags": [],
        "id": "9XBP2m704zS6",
        "outputId": "b7575766-f4a4-404f-eba0-baabb2459ebf"
      },
      "outputs": [
        {
          "name": "stdout",
          "output_type": "stream",
          "text": [
            "<class 'pandas.core.frame.DataFrame'>\n",
            "RangeIndex: 506 entries, 0 to 505\n",
            "Data columns (total 14 columns):\n",
            " #   Column   Non-Null Count  Dtype   \n",
            "---  ------   --------------  -----   \n",
            " 0   CRIM     506 non-null    float64 \n",
            " 1   ZN       506 non-null    float64 \n",
            " 2   INDUS    506 non-null    float64 \n",
            " 3   CHAS     506 non-null    category\n",
            " 4   NOX      506 non-null    float64 \n",
            " 5   RM       506 non-null    float64 \n",
            " 6   AGE      506 non-null    float64 \n",
            " 7   DIS      506 non-null    float64 \n",
            " 8   RAD      506 non-null    category\n",
            " 9   TAX      506 non-null    float64 \n",
            " 10  PTRATIO  506 non-null    float64 \n",
            " 11  B        506 non-null    float64 \n",
            " 12  LSTAT    506 non-null    float64 \n",
            " 13  PRICE    506 non-null    float64 \n",
            "dtypes: category(2), float64(12)\n",
            "memory usage: 49.0 KB\n"
          ]
        }
      ],
      "source": [
        "data.info()"
      ]
    },
    {
      "cell_type": "markdown",
      "metadata": {
        "papermill": {
          "duration": 0.026275,
          "end_time": "2022-08-10T01:26:30.033463",
          "exception": false,
          "start_time": "2022-08-10T01:26:30.007188",
          "status": "completed"
        },
        "tags": [],
        "id": "gtLr-tEK4zS7"
      },
      "source": [
        "<a id = 'visual'></a>\n",
        "### Visualisation"
      ]
    },
    {
      "cell_type": "code",
      "execution_count": null,
      "metadata": {
        "papermill": {
          "duration": 0.373929,
          "end_time": "2022-08-10T01:26:30.434719",
          "exception": false,
          "start_time": "2022-08-10T01:26:30.060790",
          "status": "completed"
        },
        "tags": [],
        "id": "jzOI90kZ4zS7",
        "outputId": "4169f7c9-ffaa-492d-d3d1-93bf972d8bf0"
      },
      "outputs": [
        {
          "data": {
            "text/plain": [
              "<seaborn.axisgrid.FacetGrid at 0x216a12168f0>"
            ]
          },
          "execution_count": 12,
          "metadata": {},
          "output_type": "execute_result"
        },
        {
          "data": {
            "image/png": "[encoded data removed]",
            "text/plain": [
              "<Figure size 500x500 with 1 Axes>"
            ]
          },
          "metadata": {},
          "output_type": "display_data"
        }
      ],
      "source": [
        "#checking the distribution of the target variable\n",
        "import seaborn as sns\n",
        "sns.displot(data['PRICE'], kde=True)"
      ]
    },
    {
      "cell_type": "markdown",
      "metadata": {
        "papermill": {
          "duration": 0.027272,
          "end_time": "2022-08-10T01:26:30.490810",
          "exception": false,
          "start_time": "2022-08-10T01:26:30.463538",
          "status": "completed"
        },
        "tags": [],
        "id": "qhfmsrW24zS7"
      },
      "source": [
        "The distribution seems normal, has not be the data normal we would have perform log transformation or took to square root of the data to make the data normal. Normal distribution is need for the machine learning for better predictiblity of the model"
      ]
    },
    {
      "cell_type": "code",
      "execution_count": null,
      "metadata": {
        "papermill": {
          "duration": 0.118564,
          "end_time": "2022-08-10T01:26:30.637221",
          "exception": false,
          "start_time": "2022-08-10T01:26:30.518657",
          "status": "completed"
        },
        "tags": [],
        "id": "bX4BHhm64zS7",
        "outputId": "8d10d8c3-fbc0-40f3-ebd4-48d50df2527a"
      },
      "outputs": [
        {
          "data": {
            "text/plain": [
              "<Axes: >"
            ]
          },
          "execution_count": 13,
          "metadata": {},
          "output_type": "execute_result"
        },
        {
          "data": {
            "image/png": "[encoded data removed]",
            "text/plain": [
              "<Figure size 640x480 with 1 Axes>"
            ]
          },
          "metadata": {},
          "output_type": "display_data"
        }
      ],
      "source": [
        "#Distribution using box plot\n",
        "sns.boxplot(data.PRICE)"
      ]
    },
    {
      "cell_type": "markdown",
      "metadata": {
        "papermill": {
          "duration": 0.027998,
          "end_time": "2022-08-10T01:26:30.693962",
          "exception": false,
          "start_time": "2022-08-10T01:26:30.665964",
          "status": "completed"
        },
        "tags": [],
        "id": "uQ1c2bNN4zS8"
      },
      "source": [
        "<a id = 'corr'></a>\n",
        "### Checking the correlation of the independent feature with the dependent feature\n",
        "\n",
        "Correlation is a statistical technique that can show whether and how strongly pairs of variables are related.An intelligent correlation analysis can lead to a greater understanding of your data"
      ]
    },
    {
      "cell_type": "code",
      "execution_count": null,
      "metadata": {
        "papermill": {
          "duration": 0.040744,
          "end_time": "2022-08-10T01:26:30.763342",
          "exception": false,
          "start_time": "2022-08-10T01:26:30.722598",
          "status": "completed"
        },
        "tags": [],
        "id": "jLq0MkkO4zS8",
        "outputId": "a9c2c235-43dc-4fb7-c83e-4bd5d1bf4c93"
      },
      "outputs": [
        {
          "name": "stderr",
          "output_type": "stream",
          "text": [
            "C:\\Users\\Yashwardhan Deshmukh\\AppData\\Local\\Temp\\ipykernel_11992\\1690761071.py:2: FutureWarning: The default value of numeric_only in DataFrame.corr is deprecated. In a future version, it will default to False. Select only valid columns or specify the value of numeric_only to silence this warning.\n",
            "  correlation = data.corr()\n"
          ]
        },
        {
          "data": {
            "text/plain": [
              "CRIM      -0.388305\n",
              "ZN         0.360445\n",
              "INDUS     -0.483725\n",
              "NOX       -0.427321\n",
              "RM         0.695360\n",
              "AGE       -0.376955\n",
              "DIS        0.249929\n",
              "TAX       -0.468536\n",
              "PTRATIO   -0.507787\n",
              "B          0.333461\n",
              "LSTAT     -0.737663\n",
              "PRICE      1.000000\n",
              "Name: PRICE, dtype: float64"
            ]
          },
          "execution_count": 14,
          "metadata": {},
          "output_type": "execute_result"
        }
      ],
      "source": [
        "#checking Correlation of the data\n",
        "correlation = data.corr()\n",
        "correlation.loc['PRICE']"
      ]
    },
    {
      "cell_type": "code",
      "execution_count": null,
      "metadata": {
        "execution": {
          "iopub.execute_input": "2022-08-10T01:26:30.832656Z",
          "iopub.status.busy": "2022-08-10T01:26:30.831872Z",
          "iopub.status.idle": "2022-08-10T01:26:31.534054Z",
          "shell.execute_reply": "2022-08-10T01:26:31.534522Z"
        },
        "papermill": {
          "duration": 0.741661,
          "end_time": "2022-08-10T01:26:31.534640",
          "exception": false,
          "start_time": "2022-08-10T01:26:30.792979",
          "status": "completed"
        },
        "tags": [],
        "id": "tOjO-bQM4zS8",
        "outputId": "b67e894c-07a1-4485-e7b5-b899799903bc"
      },
      "outputs": [
        {
          "data": {
            "text/plain": [
              "<Axes: >"
            ]
          },
          "execution_count": 15,
          "metadata": {},
          "output_type": "execute_result"
        },
        {
          "data": {
            "image/png": "[encoded data removed]",
            "text/plain": [
              "<Figure size 1500x1200 with 2 Axes>"
            ]
          },
          "metadata": {},
          "output_type": "display_data"
        }
      ],
      "source": [
        "# plotting the heatmap\n",
        "import matplotlib.pyplot as plt\n",
        "fig,axes = plt.subplots(figsize=(15,12))\n",
        "sns.heatmap(correlation,square = True,annot = True)"
      ]
    },
    {
      "cell_type": "markdown",
      "metadata": {
        "papermill": {
          "duration": 0.031597,
          "end_time": "2022-08-10T01:26:31.597827",
          "exception": false,
          "start_time": "2022-08-10T01:26:31.566230",
          "status": "completed"
        },
        "tags": [],
        "id": "Xw4ET3A44zS8"
      },
      "source": [
        "By looking at the correlation plot LSAT is negatively correlated with -0.75 and RM is positively correlated to the price and PTRATIO is correlated negatively with -0.51"
      ]
    },
    {
      "cell_type": "code",
      "execution_count": null,
      "metadata": {
        "papermill": {
          "duration": 0.387502,
          "end_time": "2022-08-10T01:26:32.016736",
          "exception": false,
          "start_time": "2022-08-10T01:26:31.629234",
          "status": "completed"
        },
        "tags": [],
        "id": "-tT-0azF4zS9",
        "outputId": "8142c30c-139f-456d-f28f-a1d29a60662c"
      },
      "outputs": [
        {
          "data": {
            "image/png": "[encoded data removed]",
            "text/plain": [
              "<Figure size 2000x500 with 3 Axes>"
            ]
          },
          "metadata": {},
          "output_type": "display_data"
        }
      ],
      "source": [
        "# Checking the scatter plot with the most correlated features\n",
        "plt.figure(figsize = (20,5))\n",
        "features = ['LSTAT','RM','PTRATIO']\n",
        "for i, col in enumerate(features):\n",
        "    plt.subplot(1, len(features) , i+1)\n",
        "    x = data[col]\n",
        "    y = data.PRICE\n",
        "    plt.scatter(x, y, marker='o')\n",
        "    plt.title(\"Variation in House prices\")\n",
        "    plt.xlabel(col)\n",
        "    plt.ylabel('\"House prices in $1000\"')"
      ]
    },
    {
      "cell_type": "markdown",
      "metadata": {
        "papermill": {
          "duration": 0.033744,
          "end_time": "2022-08-10T01:26:32.083523",
          "exception": false,
          "start_time": "2022-08-10T01:26:32.049779",
          "status": "completed"
        },
        "tags": [],
        "id": "8SOg2F_I4zS9"
      },
      "source": [
        "<a id = 'split'></a>\n",
        "### Splitting the dependent feature and independent feature"
      ]
    },
    {
      "cell_type": "code",
      "execution_count": null,
      "metadata": {
        "papermill": {
          "duration": 0.041028,
          "end_time": "2022-08-10T01:26:32.158598",
          "exception": false,
          "start_time": "2022-08-10T01:26:32.117570",
          "status": "completed"
        },
        "tags": [],
        "id": "L-54vdpz4zS9"
      },
      "outputs": [],
      "source": [
        "#X = data[['LSTAT','RM','PTRATIO']]\n",
        "X = data.iloc[:,:-1]\n",
        "y= data.PRICE"
      ]
    },
    {
      "cell_type": "markdown",
      "metadata": {
        "papermill": {
          "duration": 0.033364,
          "end_time": "2022-08-10T01:26:32.226273",
          "exception": false,
          "start_time": "2022-08-10T01:26:32.192909",
          "status": "completed"
        },
        "tags": [],
        "id": "aq0bWN124zS9"
      },
      "source": [
        "<a id = 'valid'></a>\n",
        "### Splitting the data for Model Validation"
      ]
    },
    {
      "cell_type": "code",
      "execution_count": null,
      "metadata": {
        "papermill": {
          "duration": 0.100655,
          "end_time": "2022-08-10T01:26:32.361581",
          "exception": false,
          "start_time": "2022-08-10T01:26:32.260926",
          "status": "completed"
        },
        "tags": [],
        "id": "nswDiDbC4zS9"
      },
      "outputs": [],
      "source": [
        "# Splitting the data into train and test for building the model\n",
        "from sklearn.model_selection import train_test_split\n",
        "X_train, X_test, y_train, y_test = train_test_split(X,y, test_size = 0.2, random_state = 4)"
      ]
    },
    {
      "cell_type": "markdown",
      "metadata": {
        "papermill": {
          "duration": 0.033268,
          "end_time": "2022-08-10T01:26:32.429314",
          "exception": false,
          "start_time": "2022-08-10T01:26:32.396046",
          "status": "completed"
        },
        "tags": [],
        "id": "dvZgHVWY4zS-"
      },
      "source": [
        "<a id = 'build'></a>\n",
        "### Building the Model"
      ]
    },
    {
      "cell_type": "code",
      "execution_count": null,
      "metadata": {
        "papermill": {
          "duration": 0.132276,
          "end_time": "2022-08-10T01:26:32.594764",
          "exception": false,
          "start_time": "2022-08-10T01:26:32.462488",
          "status": "completed"
        },
        "tags": [],
        "id": "5_OHUab64zS-"
      },
      "outputs": [],
      "source": [
        "#Linear Regression\n",
        "from sklearn.linear_model import LinearRegression\n",
        "regressor = LinearRegression()"
      ]
    },
    {
      "cell_type": "code",
      "execution_count": null,
      "metadata": {
        "papermill": {
          "duration": 0.081726,
          "end_time": "2022-08-10T01:26:32.710054",
          "exception": false,
          "start_time": "2022-08-10T01:26:32.628328",
          "status": "completed"
        },
        "tags": [],
        "id": "pZCObhvs4zS-",
        "outputId": "0c30fe0a-ec4c-444a-8438-0afd1eb40e56"
      },
      "outputs": [
        {
          "data": {
            "text/html": [
              "<style>#sk-container-id-1 {color: black;background-color: white;}#sk-container-id-1 pre{padding: 0;}#sk-container-id-1 div.sk-toggleable {background-color: white;}#sk-container-id-1 label.sk-toggleable__label {cursor: pointer;display: block;width: 100%;margin-bottom: 0;padding: 0.3em;box-sizing: border-box;text-align: center;}#sk-container-id-1 label.sk-toggleable__label-arrow:before {content: \"▸\";float: left;margin-right: 0.25em;color: #696969;}#sk-container-id-1 label.sk-toggleable__label-arrow:hover:before {color: black;}#sk-container-id-1 div.sk-estimator:hover label.sk-toggleable__label-arrow:before {color: black;}#sk-container-id-1 div.sk-toggleable__content {max-height: 0;max-width: 0;overflow: hidden;text-align: left;background-color: #f0f8ff;}#sk-container-id-1 div.sk-toggleable__content pre {margin: 0.2em;color: black;border-radius: 0.25em;background-color: #f0f8ff;}#sk-container-id-1 input.sk-toggleable__control:checked~div.sk-toggleable__content {max-height: 200px;max-width: 100%;overflow: auto;}#sk-container-id-1 input.sk-toggleable__control:checked~label.sk-toggleable__label-arrow:before {content: \"▾\";}#sk-container-id-1 div.sk-estimator input.sk-toggleable__control:checked~label.sk-toggleable__label {background-color: #d4ebff;}#sk-container-id-1 div.sk-label input.sk-toggleable__control:checked~label.sk-toggleable__label {background-color: #d4ebff;}#sk-container-id-1 input.sk-hidden--visually {border: 0;clip: rect(1px 1px 1px 1px);clip: rect(1px, 1px, 1px, 1px);height: 1px;margin: -1px;overflow: hidden;padding: 0;position: absolute;width: 1px;}#sk-container-id-1 div.sk-estimator {font-family: monospace;background-color: #f0f8ff;border: 1px dotted black;border-radius: 0.25em;box-sizing: border-box;margin-bottom: 0.5em;}#sk-container-id-1 div.sk-estimator:hover {background-color: #d4ebff;}#sk-container-id-1 div.sk-parallel-item::after {content: \"\";width: 100%;border-bottom: 1px solid gray;flex-grow: 1;}#sk-container-id-1 div.sk-label:hover label.sk-toggleable__label {background-color: #d4ebff;}#sk-container-id-1 div.sk-serial::before {content: \"\";position: absolute;border-left: 1px solid gray;box-sizing: border-box;top: 0;bottom: 0;left: 50%;z-index: 0;}#sk-container-id-1 div.sk-serial {display: flex;flex-direction: column;align-items: center;background-color: white;padding-right: 0.2em;padding-left: 0.2em;position: relative;}#sk-container-id-1 div.sk-item {position: relative;z-index: 1;}#sk-container-id-1 div.sk-parallel {display: flex;align-items: stretch;justify-content: center;background-color: white;position: relative;}#sk-container-id-1 div.sk-item::before, #sk-container-id-1 div.sk-parallel-item::before {content: \"\";position: absolute;border-left: 1px solid gray;box-sizing: border-box;top: 0;bottom: 0;left: 50%;z-index: -1;}#sk-container-id-1 div.sk-parallel-item {display: flex;flex-direction: column;z-index: 1;position: relative;background-color: white;}#sk-container-id-1 div.sk-parallel-item:first-child::after {align-self: flex-end;width: 50%;}#sk-container-id-1 div.sk-parallel-item:last-child::after {align-self: flex-start;width: 50%;}#sk-container-id-1 div.sk-parallel-item:only-child::after {width: 0;}#sk-container-id-1 div.sk-dashed-wrapped {border: 1px dashed gray;margin: 0 0.4em 0.5em 0.4em;box-sizing: border-box;padding-bottom: 0.4em;background-color: white;}#sk-container-id-1 div.sk-label label {font-family: monospace;font-weight: bold;display: inline-block;line-height: 1.2em;}#sk-container-id-1 div.sk-label-container {text-align: center;}#sk-container-id-1 div.sk-container {/* jupyter's `normalize.less` sets `[hidden] { display: none; }` but bootstrap.min.css set `[hidden] { display: none !important; }` so we also need the `!important` here to be able to override the default hidden behavior on the sphinx rendered scikit-learn.org. See: https://github.com/scikit-learn/scikit-learn/issues/21755 */display: inline-block !important;position: relative;}#sk-container-id-1 div.sk-text-repr-fallback {display: none;}</style><div id=\"sk-container-id-1\" class=\"sk-top-container\"><div class=\"sk-text-repr-fallback\"><pre>LinearRegression()</pre><b>In a Jupyter environment, please rerun this cell to show the HTML representation or trust the notebook. <br />On GitHub, the HTML representation is unable to render, please try loading this page with nbviewer.org.</b></div><div class=\"sk-container\" hidden><div class=\"sk-item\"><div class=\"sk-estimator sk-toggleable\"><input class=\"sk-toggleable__control sk-hidden--visually\" id=\"sk-estimator-id-1\" type=\"checkbox\" checked><label for=\"sk-estimator-id-1\" class=\"sk-toggleable__label sk-toggleable__label-arrow\">LinearRegression</label><div class=\"sk-toggleable__content\"><pre>LinearRegression()</pre></div></div></div></div></div>"
            ],
            "text/plain": [
              "LinearRegression()"
            ]
          },
          "execution_count": 20,
          "metadata": {},
          "output_type": "execute_result"
        }
      ],
      "source": [
        "#Fitting the model\n",
        "regressor.fit(X_train,y_train)"
      ]
    },
    {
      "cell_type": "markdown",
      "metadata": {
        "papermill": {
          "duration": 0.035156,
          "end_time": "2022-08-10T01:26:32.779807",
          "exception": false,
          "start_time": "2022-08-10T01:26:32.744651",
          "status": "completed"
        },
        "tags": [],
        "id": "t9_b2y4M4zS-"
      },
      "source": [
        "<a id = 'evaluate'></a>\n",
        "### Model Evaluation"
      ]
    },
    {
      "cell_type": "code",
      "execution_count": null,
      "metadata": {
        "papermill": {
          "duration": 0.044206,
          "end_time": "2022-08-10T01:26:32.858700",
          "exception": false,
          "start_time": "2022-08-10T01:26:32.814494",
          "status": "completed"
        },
        "tags": [],
        "id": "XeM68yhe4zS-",
        "outputId": "7e537a6a-ad1b-4117-b43b-b00ce4c2eecb"
      },
      "outputs": [
        {
          "name": "stderr",
          "output_type": "stream",
          "text": [
            "C:\\Users\\Yashwardhan Deshmukh\\anaconda3\\lib\\site-packages\\sklearn\\base.py:420: UserWarning: X does not have valid feature names, but LinearRegression was fitted with feature names\n",
            "  warnings.warn(\n"
          ]
        }
      ],
      "source": [
        "# Convert X_test to a NumPy array\n",
        "X_test = np.array(X_test)\n",
        "#Prediction on the test dataset\n",
        "y_pred = regressor.predict(X_test)"
      ]
    },
    {
      "cell_type": "code",
      "execution_count": null,
      "metadata": {
        "papermill": {
          "duration": 0.047136,
          "end_time": "2022-08-10T01:26:32.940854",
          "exception": false,
          "start_time": "2022-08-10T01:26:32.893718",
          "status": "completed"
        },
        "tags": [],
        "id": "FdLfs-1U4zS-",
        "outputId": "559cf645-c6c1-4660-e173-780ef4b7677b"
      },
      "outputs": [
        {
          "name": "stdout",
          "output_type": "stream",
          "text": [
            "5.041784121402046\n"
          ]
        }
      ],
      "source": [
        "# Predicting RMSE the Test set results\n",
        "from sklearn.metrics import mean_squared_error\n",
        "rmse = (np.sqrt(mean_squared_error(y_test, y_pred)))\n",
        "print(rmse)"
      ]
    },
    {
      "cell_type": "code",
      "execution_count": null,
      "metadata": {
        "papermill": {
          "duration": 0.044196,
          "end_time": "2022-08-10T01:26:33.019917",
          "exception": false,
          "start_time": "2022-08-10T01:26:32.975721",
          "status": "completed"
        },
        "tags": [],
        "id": "FvTfs4Lt4zS_",
        "outputId": "dc977dec-c7ae-4ad5-eb63-5ba152db6318"
      },
      "outputs": [
        {
          "name": "stdout",
          "output_type": "stream",
          "text": [
            "0.7263451459702515\n"
          ]
        }
      ],
      "source": [
        "from sklearn.metrics import r2_score\n",
        "r2 = r2_score(y_test, y_pred)\n",
        "print(r2)"
      ]
    },
    {
      "cell_type": "markdown",
      "metadata": {
        "papermill": {
          "duration": 0.035405,
          "end_time": "2022-08-10T01:26:33.089945",
          "exception": false,
          "start_time": "2022-08-10T01:26:33.054540",
          "status": "completed"
        },
        "tags": [],
        "id": "i7EcZN9B4zS_"
      },
      "source": [
        "### Neural Networks"
      ]
    },
    {
      "cell_type": "code",
      "execution_count": null,
      "metadata": {
        "scrolled": true,
        "id": "HZBVUTg84zS_",
        "outputId": "cfbea42c-fddf-4d63-a742-89ab3caa813d"
      },
      "outputs": [
        {
          "name": "stdout",
          "output_type": "stream",
          "text": [
            "Requirement already satisfied: tensorflow in c:\\users\\yashwardhan deshmukh\\anaconda3\\lib\\site-packages (2.15.0)\n",
            "Requirement already satisfied: tensorflow-intel==2.15.0 in c:\\users\\yashwardhan deshmukh\\anaconda3\\lib\\site-packages (from tensorflow) (2.15.0)\n",
            "Requirement already satisfied: flatbuffers>=23.5.26 in c:\\users\\yashwardhan deshmukh\\anaconda3\\lib\\site-packages (from tensorflow-intel==2.15.0->tensorflow) (23.5.26)\n",
            "Requirement already satisfied: h5py>=2.9.0 in c:\\users\\yashwardhan deshmukh\\anaconda3\\lib\\site-packages (from tensorflow-intel==2.15.0->tensorflow) (3.7.0)\n",
            "Requirement already satisfied: absl-py>=1.0.0 in c:\\users\\yashwardhan deshmukh\\anaconda3\\lib\\site-packages (from tensorflow-intel==2.15.0->tensorflow) (2.0.0)\n",
            "Requirement already satisfied: gast!=0.5.0,!=0.5.1,!=0.5.2,>=0.2.1 in c:\\users\\yashwardhan deshmukh\\anaconda3\\lib\\site-packages (from tensorflow-intel==2.15.0->tensorflow) (0.5.4)\n",
            "Requirement already satisfied: packaging in c:\\users\\yashwardhan deshmukh\\anaconda3\\lib\\site-packages (from tensorflow-intel==2.15.0->tensorflow) (22.0)\n",
            "Requirement already satisfied: tensorflow-io-gcs-filesystem>=0.23.1 in c:\\users\\yashwardhan deshmukh\\anaconda3\\lib\\site-packages (from tensorflow-intel==2.15.0->tensorflow) (0.31.0)\n",
            "Requirement already satisfied: keras<2.16,>=2.15.0 in c:\\users\\yashwardhan deshmukh\\anaconda3\\lib\\site-packages (from tensorflow-intel==2.15.0->tensorflow) (2.15.0)\n",
            "Requirement already satisfied: protobuf!=4.21.0,!=4.21.1,!=4.21.2,!=4.21.3,!=4.21.4,!=4.21.5,<5.0.0dev,>=3.20.3 in c:\\users\\yashwardhan deshmukh\\anaconda3\\lib\\site-packages (from tensorflow-intel==2.15.0->tensorflow) (4.23.4)\n",
            "Requirement already satisfied: tensorflow-estimator<2.16,>=2.15.0 in c:\\users\\yashwardhan deshmukh\\anaconda3\\lib\\site-packages (from tensorflow-intel==2.15.0->tensorflow) (2.15.0)\n",
            "Requirement already satisfied: ml-dtypes~=0.2.0 in c:\\users\\yashwardhan deshmukh\\anaconda3\\lib\\site-packages (from tensorflow-intel==2.15.0->tensorflow) (0.2.0)\n",
            "Requirement already satisfied: grpcio<2.0,>=1.24.3 in c:\\users\\yashwardhan deshmukh\\anaconda3\\lib\\site-packages (from tensorflow-intel==2.15.0->tensorflow) (1.59.3)\n",
            "Requirement already satisfied: tensorboard<2.16,>=2.15 in c:\\users\\yashwardhan deshmukh\\anaconda3\\lib\\site-packages (from tensorflow-intel==2.15.0->tensorflow) (2.15.1)\n",
            "Requirement already satisfied: opt-einsum>=2.3.2 in c:\\users\\yashwardhan deshmukh\\anaconda3\\lib\\site-packages (from tensorflow-intel==2.15.0->tensorflow) (3.3.0)\n",
            "Requirement already satisfied: typing-extensions>=3.6.6 in c:\\users\\yashwardhan deshmukh\\anaconda3\\lib\\site-packages (from tensorflow-intel==2.15.0->tensorflow) (4.10.0)\n",
            "Requirement already satisfied: termcolor>=1.1.0 in c:\\users\\yashwardhan deshmukh\\anaconda3\\lib\\site-packages (from tensorflow-intel==2.15.0->tensorflow) (2.3.0)\n",
            "Requirement already satisfied: astunparse>=1.6.0 in c:\\users\\yashwardhan deshmukh\\anaconda3\\lib\\site-packages (from tensorflow-intel==2.15.0->tensorflow) (1.6.3)\n",
            "Requirement already satisfied: libclang>=13.0.0 in c:\\users\\yashwardhan deshmukh\\anaconda3\\lib\\site-packages (from tensorflow-intel==2.15.0->tensorflow) (16.0.6)\n",
            "Requirement already satisfied: numpy<2.0.0,>=1.23.5 in c:\\users\\yashwardhan deshmukh\\anaconda3\\lib\\site-packages (from tensorflow-intel==2.15.0->tensorflow) (1.23.5)\n",
            "Requirement already satisfied: wrapt<1.15,>=1.11.0 in c:\\users\\yashwardhan deshmukh\\anaconda3\\lib\\site-packages (from tensorflow-intel==2.15.0->tensorflow) (1.14.1)\n",
            "Requirement already satisfied: google-pasta>=0.1.1 in c:\\users\\yashwardhan deshmukh\\anaconda3\\lib\\site-packages (from tensorflow-intel==2.15.0->tensorflow) (0.2.0)\n",
            "Requirement already satisfied: setuptools in c:\\users\\yashwardhan deshmukh\\anaconda3\\lib\\site-packages (from tensorflow-intel==2.15.0->tensorflow) (65.6.3)\n",
            "Requirement already satisfied: six>=1.12.0 in c:\\users\\yashwardhan deshmukh\\anaconda3\\lib\\site-packages (from tensorflow-intel==2.15.0->tensorflow) (1.16.0)\n",
            "Requirement already satisfied: wheel<1.0,>=0.23.0 in c:\\users\\yashwardhan deshmukh\\anaconda3\\lib\\site-packages (from astunparse>=1.6.0->tensorflow-intel==2.15.0->tensorflow) (0.38.4)\n",
            "Requirement already satisfied: google-auth<3,>=1.6.3 in c:\\users\\yashwardhan deshmukh\\anaconda3\\lib\\site-packages (from tensorboard<2.16,>=2.15->tensorflow-intel==2.15.0->tensorflow) (2.23.4)\n",
            "Requirement already satisfied: tensorboard-data-server<0.8.0,>=0.7.0 in c:\\users\\yashwardhan deshmukh\\anaconda3\\lib\\site-packages (from tensorboard<2.16,>=2.15->tensorflow-intel==2.15.0->tensorflow) (0.7.2)\n",
            "Requirement already satisfied: google-auth-oauthlib<2,>=0.5 in c:\\users\\yashwardhan deshmukh\\anaconda3\\lib\\site-packages (from tensorboard<2.16,>=2.15->tensorflow-intel==2.15.0->tensorflow) (1.1.0)\n",
            "Requirement already satisfied: requests<3,>=2.21.0 in c:\\users\\yashwardhan deshmukh\\anaconda3\\lib\\site-packages (from tensorboard<2.16,>=2.15->tensorflow-intel==2.15.0->tensorflow) (2.28.1)\n",
            "Requirement already satisfied: markdown>=2.6.8 in c:\\users\\yashwardhan deshmukh\\anaconda3\\lib\\site-packages (from tensorboard<2.16,>=2.15->tensorflow-intel==2.15.0->tensorflow) (3.4.1)\n",
            "Requirement already satisfied: werkzeug>=1.0.1 in c:\\users\\yashwardhan deshmukh\\anaconda3\\lib\\site-packages (from tensorboard<2.16,>=2.15->tensorflow-intel==2.15.0->tensorflow) (2.2.2)\n",
            "Requirement already satisfied: cachetools<6.0,>=2.0.0 in c:\\users\\yashwardhan deshmukh\\anaconda3\\lib\\site-packages (from google-auth<3,>=1.6.3->tensorboard<2.16,>=2.15->tensorflow-intel==2.15.0->tensorflow) (5.3.2)\n",
            "Requirement already satisfied: pyasn1-modules>=0.2.1 in c:\\users\\yashwardhan deshmukh\\anaconda3\\lib\\site-packages (from google-auth<3,>=1.6.3->tensorboard<2.16,>=2.15->tensorflow-intel==2.15.0->tensorflow) (0.2.8)\n",
            "Requirement already satisfied: rsa<5,>=3.1.4 in c:\\users\\yashwardhan deshmukh\\anaconda3\\lib\\site-packages (from google-auth<3,>=1.6.3->tensorboard<2.16,>=2.15->tensorflow-intel==2.15.0->tensorflow) (4.9)\n",
            "Requirement already satisfied: requests-oauthlib>=0.7.0 in c:\\users\\yashwardhan deshmukh\\anaconda3\\lib\\site-packages (from google-auth-oauthlib<2,>=0.5->tensorboard<2.16,>=2.15->tensorflow-intel==2.15.0->tensorflow) (1.3.1)\n",
            "Requirement already satisfied: certifi>=2017.4.17 in c:\\users\\yashwardhan deshmukh\\anaconda3\\lib\\site-packages (from requests<3,>=2.21.0->tensorboard<2.16,>=2.15->tensorflow-intel==2.15.0->tensorflow) (2022.12.7)\n",
            "Requirement already satisfied: charset-normalizer<3,>=2 in c:\\users\\yashwardhan deshmukh\\anaconda3\\lib\\site-packages (from requests<3,>=2.21.0->tensorboard<2.16,>=2.15->tensorflow-intel==2.15.0->tensorflow) (2.0.4)\n",
            "Requirement already satisfied: urllib3<1.27,>=1.21.1 in c:\\users\\yashwardhan deshmukh\\anaconda3\\lib\\site-packages (from requests<3,>=2.21.0->tensorboard<2.16,>=2.15->tensorflow-intel==2.15.0->tensorflow) (1.26.14)\n",
            "Requirement already satisfied: idna<4,>=2.5 in c:\\users\\yashwardhan deshmukh\\anaconda3\\lib\\site-packages (from requests<3,>=2.21.0->tensorboard<2.16,>=2.15->tensorflow-intel==2.15.0->tensorflow) (3.4)\n",
            "Requirement already satisfied: MarkupSafe>=2.1.1 in c:\\users\\yashwardhan deshmukh\\anaconda3\\lib\\site-packages (from werkzeug>=1.0.1->tensorboard<2.16,>=2.15->tensorflow-intel==2.15.0->tensorflow) (2.1.1)\n",
            "Requirement already satisfied: pyasn1<0.5.0,>=0.4.6 in c:\\users\\yashwardhan deshmukh\\anaconda3\\lib\\site-packages (from pyasn1-modules>=0.2.1->google-auth<3,>=1.6.3->tensorboard<2.16,>=2.15->tensorflow-intel==2.15.0->tensorflow) (0.4.8)\n",
            "Requirement already satisfied: oauthlib>=3.0.0 in c:\\users\\yashwardhan deshmukh\\anaconda3\\lib\\site-packages (from requests-oauthlib>=0.7.0->google-auth-oauthlib<2,>=0.5->tensorboard<2.16,>=2.15->tensorflow-intel==2.15.0->tensorflow) (3.2.2)\n",
            "Requirement already satisfied: keras in c:\\users\\yashwardhan deshmukh\\anaconda3\\lib\\site-packages (2.15.0)\n"
          ]
        }
      ],
      "source": [
        "!pip install tensorflow\n",
        "!pip install keras"
      ]
    },
    {
      "cell_type": "code",
      "execution_count": null,
      "metadata": {
        "papermill": {
          "duration": 0.278206,
          "end_time": "2022-08-10T01:26:33.557268",
          "exception": false,
          "start_time": "2022-08-10T01:26:33.279062",
          "status": "completed"
        },
        "tags": [],
        "id": "LWR9bZ5o4zS_",
        "outputId": "f7f042f1-0a4b-4405-8fa9-dd8a8389a61b"
      },
      "outputs": [
        {
          "name": "stdout",
          "output_type": "stream",
          "text": [
            "WARNING:tensorflow:From C:\\Users\\Yashwardhan Deshmukh\\anaconda3\\lib\\site-packages\\keras\\src\\losses.py:2976: The name tf.losses.sparse_softmax_cross_entropy is deprecated. Please use tf.compat.v1.losses.sparse_softmax_cross_entropy instead.\n",
            "\n",
            "WARNING:tensorflow:From C:\\Users\\Yashwardhan Deshmukh\\anaconda3\\lib\\site-packages\\keras\\src\\backend.py:873: The name tf.get_default_graph is deprecated. Please use tf.compat.v1.get_default_graph instead.\n",
            "\n",
            "WARNING:tensorflow:From C:\\Users\\Yashwardhan Deshmukh\\anaconda3\\lib\\site-packages\\keras\\src\\optimizers\\__init__.py:309: The name tf.train.Optimizer is deprecated. Please use tf.compat.v1.train.Optimizer instead.\n",
            "\n"
          ]
        }
      ],
      "source": [
        "#Creating the neural network model\n",
        "import keras\n",
        "from keras.layers import Dense, Activation,Dropout\n",
        "from keras.models import Sequential\n",
        "\n",
        "model = Sequential()\n",
        "\n",
        "model.add(Dense(128,activation  = 'relu',input_dim =13))\n",
        "model.add(Dense(64,activation  = 'relu'))\n",
        "model.add(Dense(32,activation  = 'relu'))\n",
        "model.add(Dense(16,activation  = 'relu'))\n",
        "model.add(Dense(1))\n",
        "model.compile(optimizer = 'adam',loss = 'mean_squared_error')"
      ]
    },
    {
      "cell_type": "code",
      "execution_count": null,
      "metadata": {
        "papermill": {
          "duration": 0.048668,
          "end_time": "2022-08-10T01:26:33.173274",
          "exception": false,
          "start_time": "2022-08-10T01:26:33.124606",
          "status": "completed"
        },
        "tags": [],
        "id": "RRsM2lCg4zS_",
        "outputId": "34e0da67-cdc1-43b7-8383-9ad3a7828183"
      },
      "outputs": [
        {
          "name": "stderr",
          "output_type": "stream",
          "text": [
            "C:\\Users\\Yashwardhan Deshmukh\\anaconda3\\lib\\site-packages\\sklearn\\base.py:420: UserWarning: X does not have valid feature names, but StandardScaler was fitted with feature names\n",
            "  warnings.warn(\n"
          ]
        }
      ],
      "source": [
        "#Scaling the dataset\n",
        "from sklearn.preprocessing import StandardScaler\n",
        "sc = StandardScaler()\n",
        "X_train = sc.fit_transform(X_train)\n",
        "X_test = sc.transform(X_test)"
      ]
    },
    {
      "cell_type": "code",
      "execution_count": null,
      "metadata": {
        "papermill": {
          "duration": 3.012095,
          "end_time": "2022-08-10T01:26:36.605106",
          "exception": false,
          "start_time": "2022-08-10T01:26:33.593011",
          "status": "completed"
        },
        "tags": [],
        "id": "K1ytofSd4zTA",
        "outputId": "a7c81c9d-a925-4f96-fc2c-fa5fb9cac389"
      },
      "outputs": [
        {
          "name": "stdout",
          "output_type": "stream",
          "text": [
            "Epoch 1/100\n",
            "WARNING:tensorflow:From C:\\Users\\Yashwardhan Deshmukh\\anaconda3\\lib\\site-packages\\keras\\src\\utils\\tf_utils.py:492: The name tf.ragged.RaggedTensorValue is deprecated. Please use tf.compat.v1.ragged.RaggedTensorValue instead.\n",
            "\n",
            "13/13 [==============================] - 1s 4ms/step - loss: 560.8288\n",
            "Epoch 2/100\n",
            "13/13 [==============================] - 0s 2ms/step - loss: 497.7580\n",
            "Epoch 3/100\n",
            "13/13 [==============================] - 0s 2ms/step - loss: 353.6269\n",
            "Epoch 4/100\n",
            "13/13 [==============================] - 0s 2ms/step - loss: 135.4632\n",
            "Epoch 5/100\n",
            "13/13 [==============================] - 0s 2ms/step - loss: 66.9524\n",
            "Epoch 6/100\n",
            "13/13 [==============================] - 0s 2ms/step - loss: 38.6823\n",
            "Epoch 7/100\n",
            "13/13 [==============================] - 0s 2ms/step - loss: 27.6510\n",
            "Epoch 8/100\n",
            "13/13 [==============================] - 0s 2ms/step - loss: 23.5196\n",
            "Epoch 9/100\n",
            "13/13 [==============================] - 0s 2ms/step - loss: 20.5033\n",
            "Epoch 10/100\n",
            "13/13 [==============================] - 0s 2ms/step - loss: 18.9613\n",
            "Epoch 11/100\n",
            "13/13 [==============================] - 0s 2ms/step - loss: 17.5502\n",
            "Epoch 12/100\n",
            "13/13 [==============================] - 0s 3ms/step - loss: 16.5713\n",
            "Epoch 13/100\n",
            "13/13 [==============================] - 0s 3ms/step - loss: 15.8751\n",
            "Epoch 14/100\n",
            "13/13 [==============================] - 0s 2ms/step - loss: 15.2993\n",
            "Epoch 15/100\n",
            "13/13 [==============================] - 0s 2ms/step - loss: 14.7791\n",
            "Epoch 16/100\n",
            "13/13 [==============================] - 0s 2ms/step - loss: 14.0425\n",
            "Epoch 17/100\n",
            "13/13 [==============================] - 0s 2ms/step - loss: 13.5410\n",
            "Epoch 18/100\n",
            "13/13 [==============================] - 0s 3ms/step - loss: 13.2592\n",
            "Epoch 19/100\n",
            "13/13 [==============================] - 0s 2ms/step - loss: 13.1400\n",
            "Epoch 20/100\n",
            "13/13 [==============================] - 0s 2ms/step - loss: 12.4117\n",
            "Epoch 21/100\n",
            "13/13 [==============================] - 0s 2ms/step - loss: 12.3726\n",
            "Epoch 22/100\n",
            "13/13 [==============================] - 0s 2ms/step - loss: 12.1444\n",
            "Epoch 23/100\n",
            "13/13 [==============================] - 0s 2ms/step - loss: 11.6830\n",
            "Epoch 24/100\n",
            "13/13 [==============================] - 0s 2ms/step - loss: 11.6076\n",
            "Epoch 25/100\n",
            "13/13 [==============================] - 0s 2ms/step - loss: 11.6458\n",
            "Epoch 26/100\n",
            "13/13 [==============================] - 0s 2ms/step - loss: 11.1211\n",
            "Epoch 27/100\n",
            "13/13 [==============================] - 0s 2ms/step - loss: 11.0254\n",
            "Epoch 28/100\n",
            "13/13 [==============================] - 0s 2ms/step - loss: 10.6679\n",
            "Epoch 29/100\n",
            "13/13 [==============================] - 0s 2ms/step - loss: 10.4333\n",
            "Epoch 30/100\n",
            "13/13 [==============================] - 0s 2ms/step - loss: 10.1049\n",
            "Epoch 31/100\n",
            "13/13 [==============================] - 0s 2ms/step - loss: 10.0120\n",
            "Epoch 32/100\n",
            "13/13 [==============================] - 0s 2ms/step - loss: 9.7764\n",
            "Epoch 33/100\n",
            "13/13 [==============================] - 0s 2ms/step - loss: 9.8114\n",
            "Epoch 34/100\n",
            "13/13 [==============================] - 0s 2ms/step - loss: 9.6759\n",
            "Epoch 35/100\n",
            "13/13 [==============================] - 0s 2ms/step - loss: 9.3968\n",
            "Epoch 36/100\n",
            "13/13 [==============================] - 0s 3ms/step - loss: 9.5108\n",
            "Epoch 37/100\n",
            "13/13 [==============================] - 0s 3ms/step - loss: 9.1135\n",
            "Epoch 38/100\n",
            "13/13 [==============================] - 0s 3ms/step - loss: 8.8877\n",
            "Epoch 39/100\n",
            "13/13 [==============================] - 0s 3ms/step - loss: 8.8268\n",
            "Epoch 40/100\n",
            "13/13 [==============================] - 0s 3ms/step - loss: 8.7769\n",
            "Epoch 41/100\n",
            "13/13 [==============================] - 0s 3ms/step - loss: 8.5516\n",
            "Epoch 42/100\n",
            "13/13 [==============================] - 0s 3ms/step - loss: 8.3684\n",
            "Epoch 43/100\n",
            "13/13 [==============================] - 0s 3ms/step - loss: 8.3994\n",
            "Epoch 44/100\n",
            "13/13 [==============================] - 0s 2ms/step - loss: 8.0807\n",
            "Epoch 45/100\n",
            "13/13 [==============================] - 0s 3ms/step - loss: 8.1053\n",
            "Epoch 46/100\n",
            "13/13 [==============================] - 0s 3ms/step - loss: 8.0496\n",
            "Epoch 47/100\n",
            "13/13 [==============================] - 0s 2ms/step - loss: 8.0184\n",
            "Epoch 48/100\n",
            "13/13 [==============================] - 0s 2ms/step - loss: 8.0680\n",
            "Epoch 49/100\n",
            "13/13 [==============================] - 0s 2ms/step - loss: 8.2567\n",
            "Epoch 50/100\n",
            "13/13 [==============================] - 0s 2ms/step - loss: 7.6961\n",
            "Epoch 51/100\n",
            "13/13 [==============================] - 0s 2ms/step - loss: 7.4146\n",
            "Epoch 52/100\n",
            "13/13 [==============================] - 0s 3ms/step - loss: 7.3768\n",
            "Epoch 53/100\n",
            "13/13 [==============================] - 0s 2ms/step - loss: 7.2622\n",
            "Epoch 54/100\n",
            "13/13 [==============================] - 0s 2ms/step - loss: 7.5631\n",
            "Epoch 55/100\n",
            "13/13 [==============================] - 0s 2ms/step - loss: 7.1752\n",
            "Epoch 56/100\n",
            "13/13 [==============================] - 0s 2ms/step - loss: 7.0038\n",
            "Epoch 57/100\n",
            "13/13 [==============================] - 0s 2ms/step - loss: 6.9502\n",
            "Epoch 58/100\n",
            "13/13 [==============================] - 0s 3ms/step - loss: 6.7485\n",
            "Epoch 59/100\n",
            "13/13 [==============================] - 0s 3ms/step - loss: 6.7575\n",
            "Epoch 60/100\n",
            "13/13 [==============================] - 0s 2ms/step - loss: 6.4378\n",
            "Epoch 61/100\n",
            "13/13 [==============================] - 0s 2ms/step - loss: 6.4293\n",
            "Epoch 62/100\n",
            "13/13 [==============================] - 0s 2ms/step - loss: 6.5366\n",
            "Epoch 63/100\n",
            "13/13 [==============================] - 0s 2ms/step - loss: 6.2329\n",
            "Epoch 64/100\n",
            "13/13 [==============================] - 0s 3ms/step - loss: 6.3472\n",
            "Epoch 65/100\n",
            "13/13 [==============================] - 0s 2ms/step - loss: 6.1419\n",
            "Epoch 66/100\n",
            "13/13 [==============================] - 0s 2ms/step - loss: 5.9343\n",
            "Epoch 67/100\n",
            "13/13 [==============================] - 0s 2ms/step - loss: 5.7642\n",
            "Epoch 68/100\n",
            "13/13 [==============================] - 0s 2ms/step - loss: 5.6330\n",
            "Epoch 69/100\n",
            "13/13 [==============================] - 0s 3ms/step - loss: 5.5996\n",
            "Epoch 70/100\n",
            "13/13 [==============================] - 0s 2ms/step - loss: 5.6851\n",
            "Epoch 71/100\n",
            "13/13 [==============================] - 0s 2ms/step - loss: 5.3609\n",
            "Epoch 72/100\n",
            "13/13 [==============================] - 0s 2ms/step - loss: 5.4464\n",
            "Epoch 73/100\n",
            "13/13 [==============================] - 0s 2ms/step - loss: 5.1774\n",
            "Epoch 74/100\n",
            "13/13 [==============================] - 0s 2ms/step - loss: 5.1524\n",
            "Epoch 75/100\n",
            "13/13 [==============================] - 0s 2ms/step - loss: 5.3678\n",
            "Epoch 76/100\n",
            "13/13 [==============================] - 0s 2ms/step - loss: 5.0174\n",
            "Epoch 77/100\n",
            "13/13 [==============================] - 0s 2ms/step - loss: 4.9229\n",
            "Epoch 78/100\n",
            "13/13 [==============================] - 0s 3ms/step - loss: 4.8143\n",
            "Epoch 79/100\n",
            "13/13 [==============================] - 0s 2ms/step - loss: 4.7693\n",
            "Epoch 80/100\n",
            "13/13 [==============================] - 0s 2ms/step - loss: 4.6345\n",
            "Epoch 81/100\n",
            "13/13 [==============================] - 0s 2ms/step - loss: 4.9587\n",
            "Epoch 82/100\n",
            "13/13 [==============================] - 0s 2ms/step - loss: 4.6488\n",
            "Epoch 83/100\n",
            "13/13 [==============================] - 0s 2ms/step - loss: 4.6239\n",
            "Epoch 84/100\n",
            "13/13 [==============================] - 0s 2ms/step - loss: 4.4825\n",
            "Epoch 85/100\n",
            "13/13 [==============================] - 0s 3ms/step - loss: 4.7062\n",
            "Epoch 86/100\n",
            "13/13 [==============================] - 0s 2ms/step - loss: 4.3191\n",
            "Epoch 87/100\n",
            "13/13 [==============================] - 0s 2ms/step - loss: 4.6144\n",
            "Epoch 88/100\n",
            "13/13 [==============================] - 0s 2ms/step - loss: 4.4799\n",
            "Epoch 89/100\n",
            "13/13 [==============================] - 0s 2ms/step - loss: 4.4502\n",
            "Epoch 90/100\n",
            "13/13 [==============================] - 0s 2ms/step - loss: 4.1417\n",
            "Epoch 91/100\n",
            "13/13 [==============================] - 0s 3ms/step - loss: 3.9828\n",
            "Epoch 92/100\n",
            "13/13 [==============================] - 0s 2ms/step - loss: 4.0298\n",
            "Epoch 93/100\n",
            "13/13 [==============================] - 0s 2ms/step - loss: 3.8867\n",
            "Epoch 94/100\n",
            "13/13 [==============================] - 0s 2ms/step - loss: 3.9619\n",
            "Epoch 95/100\n",
            "13/13 [==============================] - 0s 2ms/step - loss: 3.7390\n",
            "Epoch 96/100\n",
            "13/13 [==============================] - 0s 2ms/step - loss: 3.8308\n",
            "Epoch 97/100\n",
            "13/13 [==============================] - 0s 3ms/step - loss: 3.9280\n",
            "Epoch 98/100\n",
            "13/13 [==============================] - 0s 3ms/step - loss: 3.6752\n",
            "Epoch 99/100\n"
          ]
        },
        {
          "name": "stdout",
          "output_type": "stream",
          "text": [
            "13/13 [==============================] - 0s 3ms/step - loss: 3.6492\n",
            "Epoch 100/100\n",
            "13/13 [==============================] - 0s 2ms/step - loss: 3.6232\n"
          ]
        }
      ],
      "source": [
        "results=model.fit(X_train, y_train, epochs = 100)"
      ]
    },
    {
      "cell_type": "markdown",
      "metadata": {
        "papermill": {
          "duration": 0.096615,
          "end_time": "2022-08-10T01:26:36.816379",
          "exception": false,
          "start_time": "2022-08-10T01:26:36.719764",
          "status": "completed"
        },
        "tags": [],
        "id": "xziTFcQo4zTA"
      },
      "source": [
        "### Evaluation of the model"
      ]
    },
    {
      "cell_type": "code",
      "execution_count": null,
      "metadata": {
        "papermill": {
          "duration": 0.256434,
          "end_time": "2022-08-10T01:26:37.168937",
          "exception": false,
          "start_time": "2022-08-10T01:26:36.912503",
          "status": "completed"
        },
        "tags": [],
        "id": "JCp0ULPT4zTA",
        "outputId": "9a4689db-61c2-496f-f025-d464a1bc36ee"
      },
      "outputs": [
        {
          "name": "stdout",
          "output_type": "stream",
          "text": [
            "4/4 [==============================] - 0s 2ms/step\n"
          ]
        }
      ],
      "source": [
        "y_pred = model.predict(X_test)"
      ]
    },
    {
      "cell_type": "code",
      "execution_count": null,
      "metadata": {
        "papermill": {
          "duration": 0.107329,
          "end_time": "2022-08-10T01:26:37.374517",
          "exception": false,
          "start_time": "2022-08-10T01:26:37.267188",
          "status": "completed"
        },
        "tags": [],
        "id": "PQ5cOZy54zTA",
        "outputId": "a3e655a1-6334-43be-9062-6493f781614a"
      },
      "outputs": [
        {
          "name": "stdout",
          "output_type": "stream",
          "text": [
            "0.8848322436428823\n"
          ]
        }
      ],
      "source": [
        "from sklearn.metrics import r2_score\n",
        "r2 = r2_score(y_test, y_pred)\n",
        "print(r2)"
      ]
    },
    {
      "cell_type": "code",
      "execution_count": null,
      "metadata": {
        "papermill": {
          "duration": 0.109177,
          "end_time": "2022-08-10T01:26:37.581665",
          "exception": false,
          "start_time": "2022-08-10T01:26:37.472488",
          "status": "completed"
        },
        "tags": [],
        "id": "lMsZW9gA4zTB",
        "outputId": "f2092a9b-6056-4b84-b1c3-1e0c5bc577ed"
      },
      "outputs": [
        {
          "name": "stdout",
          "output_type": "stream",
          "text": [
            "3.270755808161393\n"
          ]
        }
      ],
      "source": [
        "# Predicting RMSE the Test set results\n",
        "from sklearn.metrics import mean_squared_error\n",
        "rmse = (np.sqrt(mean_squared_error(y_test, y_pred)))\n",
        "print(rmse)"
      ]
    },
    {
      "cell_type": "code",
      "execution_count": null,
      "metadata": {
        "id": "7ehICsHZ4zTB",
        "outputId": "629d1f7b-efb1-4624-9c59-50807eabe4c1"
      },
      "outputs": [
        {
          "data": {
            "image/png": "[encoded data removed]",
            "text/plain": [
              "<Figure size 640x480 with 1 Axes>"
            ]
          },
          "metadata": {},
          "output_type": "display_data"
        }
      ],
      "source": [
        "plt.plot(results.history['loss'])\n",
        "plt.title('Model Loss')\n",
        "plt.ylabel('Loss ')\n",
        "plt.xlabel('Epoch')\n",
        "plt.show()"
      ]
    },
    {
      "cell_type": "code",
      "execution_count": null,
      "metadata": {
        "id": "bg-xHO_l4zTB"
      },
      "outputs": [],
      "source": [
        "from keras.layers import Dropout\n",
        "from keras import regularizers\n",
        "\n",
        "\n",
        "model_3 = Sequential([\n",
        "    Dense(1000, activation='relu', kernel_regularizer=regularizers.l2(0.01), input_shape=(13,)),\n",
        "    Dropout(0.3),\n",
        "    Dense(1000, activation='relu', kernel_regularizer=regularizers.l2(0.01)),\n",
        "    Dropout(0.3),\n",
        "    Dense(1000, activation='relu', kernel_regularizer=regularizers.l2(0.01)),\n",
        "    Dropout(0.3),\n",
        "    Dense(1000, activation='relu', kernel_regularizer=regularizers.l2(0.01)),\n",
        "    Dropout(0.3),\n",
        "    Dense(1, activation='sigmoid', kernel_regularizer=regularizers.l2(0.01)),\n",
        "])"
      ]
    },
    {
      "cell_type": "code",
      "execution_count": null,
      "metadata": {
        "scrolled": true,
        "id": "V2YKphA54zTB",
        "outputId": "dc2a185f-44f4-4751-e970-cee40dcac8e6"
      },
      "outputs": [
        {
          "name": "stdout",
          "output_type": "stream",
          "text": [
            "Epoch 1/100\n",
            "WARNING:tensorflow:From C:\\Users\\Yashwardhan Deshmukh\\anaconda3\\lib\\site-packages\\keras\\src\\engine\\base_layer_utils.py:384: The name tf.executing_eagerly_outside_functions is deprecated. Please use tf.compat.v1.executing_eagerly_outside_functions instead.\n",
            "\n",
            "13/13 [==============================] - 2s 86ms/step - loss: -4443.4312 - accuracy: 0.0000e+00 - val_loss: -31265.8672 - val_accuracy: 0.0000e+00\n",
            "Epoch 2/100\n",
            "13/13 [==============================] - 1s 46ms/step - loss: -202315.4844 - accuracy: 0.0000e+00 - val_loss: -834012.5625 - val_accuracy: 0.0000e+00\n",
            "Epoch 3/100\n",
            "13/13 [==============================] - 1s 48ms/step - loss: -2660418.2500 - accuracy: 0.0000e+00 - val_loss: -8014038.5000 - val_accuracy: 0.0000e+00\n",
            "Epoch 4/100\n",
            "13/13 [==============================] - 1s 49ms/step - loss: -18484278.0000 - accuracy: 0.0000e+00 - val_loss: -47066936.0000 - val_accuracy: 0.0000e+00\n",
            "Epoch 5/100\n",
            "13/13 [==============================] - 1s 49ms/step - loss: -90926488.0000 - accuracy: 0.0000e+00 - val_loss: -200581216.0000 - val_accuracy: 0.0000e+00\n",
            "Epoch 6/100\n",
            "13/13 [==============================] - 1s 49ms/step - loss: -340886848.0000 - accuracy: 0.0000e+00 - val_loss: -680448640.0000 - val_accuracy: 0.0000e+00\n",
            "Epoch 7/100\n",
            "13/13 [==============================] - 1s 48ms/step - loss: -1028581184.0000 - accuracy: 0.0000e+00 - val_loss: -1935516032.0000 - val_accuracy: 0.0000e+00\n",
            "Epoch 8/100\n",
            "13/13 [==============================] - 1s 52ms/step - loss: -2785585664.0000 - accuracy: 0.0000e+00 - val_loss: -4799894016.0000 - val_accuracy: 0.0000e+00\n",
            "Epoch 9/100\n",
            "13/13 [==============================] - 1s 50ms/step - loss: -6437991424.0000 - accuracy: 0.0000e+00 - val_loss: -10708206592.0000 - val_accuracy: 0.0000e+00\n",
            "Epoch 10/100\n",
            "13/13 [==============================] - 1s 48ms/step - loss: -13821266944.0000 - accuracy: 0.0000e+00 - val_loss: -21797496832.0000 - val_accuracy: 0.0000e+00\n",
            "Epoch 11/100\n",
            "13/13 [==============================] - 1s 48ms/step - loss: -27027943424.0000 - accuracy: 0.0000e+00 - val_loss: -41562566656.0000 - val_accuracy: 0.0000e+00\n",
            "Epoch 12/100\n",
            "13/13 [==============================] - 1s 46ms/step - loss: -49923563520.0000 - accuracy: 0.0000e+00 - val_loss: -74366394368.0000 - val_accuracy: 0.0000e+00\n",
            "Epoch 13/100\n",
            "13/13 [==============================] - 1s 50ms/step - loss: -87598129152.0000 - accuracy: 0.0000e+00 - val_loss: -126188806144.0000 - val_accuracy: 0.0000e+00\n",
            "Epoch 14/100\n",
            "13/13 [==============================] - 1s 49ms/step - loss: -144916824064.0000 - accuracy: 0.0000e+00 - val_loss: -206350385152.0000 - val_accuracy: 0.0000e+00\n",
            "Epoch 15/100\n",
            "13/13 [==============================] - 1s 47ms/step - loss: -233733718016.0000 - accuracy: 0.0000e+00 - val_loss: -323366846464.0000 - val_accuracy: 0.0000e+00\n",
            "Epoch 16/100\n",
            "13/13 [==============================] - 1s 48ms/step - loss: -359839334400.0000 - accuracy: 0.0000e+00 - val_loss: -490840719360.0000 - val_accuracy: 0.0000e+00\n",
            "Epoch 17/100\n",
            "13/13 [==============================] - 1s 49ms/step - loss: -541750460416.0000 - accuracy: 0.0000e+00 - val_loss: -725901049856.0000 - val_accuracy: 0.0000e+00\n",
            "Epoch 18/100\n",
            "13/13 [==============================] - 1s 46ms/step - loss: -788322320384.0000 - accuracy: 0.0000e+00 - val_loss: -1046493069312.0000 - val_accuracy: 0.0000e+00\n",
            "Epoch 19/100\n",
            "13/13 [==============================] - 1s 47ms/step - loss: -1125445009408.0000 - accuracy: 0.0000e+00 - val_loss: -1470294130688.0000 - val_accuracy: 0.0000e+00\n",
            "Epoch 20/100\n",
            "13/13 [==============================] - 1s 48ms/step - loss: -1560294064128.0000 - accuracy: 0.0000e+00 - val_loss: -2030597570560.0000 - val_accuracy: 0.0000e+00\n",
            "Epoch 21/100\n",
            "13/13 [==============================] - 1s 46ms/step - loss: -2137940033536.0000 - accuracy: 0.0000e+00 - val_loss: -2755173548032.0000 - val_accuracy: 0.0000e+00\n",
            "Epoch 22/100\n",
            "13/13 [==============================] - 1s 48ms/step - loss: -2871409246208.0000 - accuracy: 0.0000e+00 - val_loss: -3675148517376.0000 - val_accuracy: 0.0000e+00\n",
            "Epoch 23/100\n",
            "13/13 [==============================] - 1s 49ms/step - loss: -3795087261696.0000 - accuracy: 0.0000e+00 - val_loss: -4824075599872.0000 - val_accuracy: 0.0000e+00\n",
            "Epoch 24/100\n",
            "13/13 [==============================] - 1s 46ms/step - loss: -4920856018944.0000 - accuracy: 0.0000e+00 - val_loss: -6241153187840.0000 - val_accuracy: 0.0000e+00\n",
            "Epoch 25/100\n",
            "13/13 [==============================] - 1s 46ms/step - loss: -6368582434816.0000 - accuracy: 0.0000e+00 - val_loss: -7995631599616.0000 - val_accuracy: 0.0000e+00\n",
            "Epoch 26/100\n",
            "13/13 [==============================] - 1s 47ms/step - loss: -8153610059776.0000 - accuracy: 0.0000e+00 - val_loss: -10097528930304.0000 - val_accuracy: 0.0000e+00\n",
            "Epoch 27/100\n",
            "13/13 [==============================] - 1s 47ms/step - loss: -10266994540544.0000 - accuracy: 0.0000e+00 - val_loss: -12674422276096.0000 - val_accuracy: 0.0000e+00\n",
            "Epoch 28/100\n",
            "13/13 [==============================] - 1s 48ms/step - loss: -12814418706432.0000 - accuracy: 0.0000e+00 - val_loss: -15777831845888.0000 - val_accuracy: 0.0000e+00\n",
            "Epoch 29/100\n",
            "13/13 [==============================] - 1s 48ms/step - loss: -15830519644160.0000 - accuracy: 0.0000e+00 - val_loss: -19429360402432.0000 - val_accuracy: 0.0000e+00\n",
            "Epoch 30/100\n",
            "13/13 [==============================] - 1s 50ms/step - loss: -19563638947840.0000 - accuracy: 0.0000e+00 - val_loss: -23705885343744.0000 - val_accuracy: 0.0000e+00\n",
            "Epoch 31/100\n",
            "13/13 [==============================] - 1s 52ms/step - loss: -23677309550592.0000 - accuracy: 0.0000e+00 - val_loss: -28697906118656.0000 - val_accuracy: 0.0000e+00\n",
            "Epoch 32/100\n",
            "13/13 [==============================] - 1s 51ms/step - loss: -28455460667392.0000 - accuracy: 0.0000e+00 - val_loss: -34574660796416.0000 - val_accuracy: 0.0000e+00\n",
            "Epoch 33/100\n",
            "13/13 [==============================] - 1s 49ms/step - loss: -34182514343936.0000 - accuracy: 0.0000e+00 - val_loss: -41314620014592.0000 - val_accuracy: 0.0000e+00\n",
            "Epoch 34/100\n",
            "13/13 [==============================] - 1s 48ms/step - loss: -40940819447808.0000 - accuracy: 0.0000e+00 - val_loss: -48941508853760.0000 - val_accuracy: 0.0000e+00\n",
            "Epoch 35/100\n",
            "13/13 [==============================] - 1s 49ms/step - loss: -48383704170496.0000 - accuracy: 0.0000e+00 - val_loss: -57915134181376.0000 - val_accuracy: 0.0000e+00\n",
            "Epoch 36/100\n",
            "13/13 [==============================] - 1s 49ms/step - loss: -56582494748672.0000 - accuracy: 0.0000e+00 - val_loss: -67844712693760.0000 - val_accuracy: 0.0000e+00\n",
            "Epoch 37/100\n",
            "13/13 [==============================] - 1s 51ms/step - loss: -66824418885632.0000 - accuracy: 0.0000e+00 - val_loss: -79310211776512.0000 - val_accuracy: 0.0000e+00\n",
            "Epoch 38/100\n",
            "13/13 [==============================] - 1s 48ms/step - loss: -77492777910272.0000 - accuracy: 0.0000e+00 - val_loss: -92009893199872.0000 - val_accuracy: 0.0000e+00\n",
            "Epoch 39/100\n",
            "13/13 [==============================] - 1s 47ms/step - loss: -89931019976704.0000 - accuracy: 0.0000e+00 - val_loss: -106433718779904.0000 - val_accuracy: 0.0000e+00\n",
            "Epoch 40/100\n",
            "13/13 [==============================] - 1s 47ms/step - loss: -103372229181440.0000 - accuracy: 0.0000e+00 - val_loss: -122706880102400.0000 - val_accuracy: 0.0000e+00\n",
            "Epoch 41/100\n",
            "13/13 [==============================] - 1s 49ms/step - loss: -118486227484672.0000 - accuracy: 0.0000e+00 - val_loss: -140293630328832.0000 - val_accuracy: 0.0000e+00\n",
            "Epoch 42/100\n",
            "13/13 [==============================] - 1s 49ms/step - loss: -136170545610752.0000 - accuracy: 0.0000e+00 - val_loss: -160375370678272.0000 - val_accuracy: 0.0000e+00\n",
            "Epoch 43/100\n",
            "13/13 [==============================] - 1s 47ms/step - loss: -155451995979776.0000 - accuracy: 0.0000e+00 - val_loss: -182372632887296.0000 - val_accuracy: 0.0000e+00\n",
            "Epoch 44/100\n",
            "13/13 [==============================] - 1s 49ms/step - loss: -175903841714176.0000 - accuracy: 0.0000e+00 - val_loss: -207264166182912.0000 - val_accuracy: 0.0000e+00\n",
            "Epoch 45/100\n",
            "13/13 [==============================] - 1s 47ms/step - loss: -199474420908032.0000 - accuracy: 0.0000e+00 - val_loss: -234252834701312.0000 - val_accuracy: 0.0000e+00\n",
            "Epoch 46/100\n"
          ]
        },
        {
          "name": "stdout",
          "output_type": "stream",
          "text": [
            "13/13 [==============================] - 1s 51ms/step - loss: -223500333744128.0000 - accuracy: 0.0000e+00 - val_loss: -263466027843584.0000 - val_accuracy: 0.0000e+00\n",
            "Epoch 47/100\n",
            "13/13 [==============================] - 1s 50ms/step - loss: -253358979940352.0000 - accuracy: 0.0000e+00 - val_loss: -295584950910976.0000 - val_accuracy: 0.0000e+00\n",
            "Epoch 48/100\n",
            "13/13 [==============================] - 1s 51ms/step - loss: -287311300395008.0000 - accuracy: 0.0000e+00 - val_loss: -330962227429376.0000 - val_accuracy: 0.0000e+00\n",
            "Epoch 49/100\n",
            "13/13 [==============================] - 1s 48ms/step - loss: -316141134151680.0000 - accuracy: 0.0000e+00 - val_loss: -370389188345856.0000 - val_accuracy: 0.0000e+00\n",
            "Epoch 50/100\n",
            "13/13 [==============================] - 1s 47ms/step - loss: -352744791605248.0000 - accuracy: 0.0000e+00 - val_loss: -412610730131456.0000 - val_accuracy: 0.0000e+00\n",
            "Epoch 51/100\n",
            "13/13 [==============================] - 1s 47ms/step - loss: -393772164710400.0000 - accuracy: 0.0000e+00 - val_loss: -458748275458048.0000 - val_accuracy: 0.0000e+00\n",
            "Epoch 52/100\n",
            "13/13 [==============================] - 1s 47ms/step - loss: -437722732822528.0000 - accuracy: 0.0000e+00 - val_loss: -507632485924864.0000 - val_accuracy: 0.0000e+00\n",
            "Epoch 53/100\n",
            "13/13 [==============================] - 1s 49ms/step - loss: -483529968320512.0000 - accuracy: 0.0000e+00 - val_loss: -560546281684992.0000 - val_accuracy: 0.0000e+00\n",
            "Epoch 54/100\n",
            "13/13 [==============================] - 1s 47ms/step - loss: -534058715054080.0000 - accuracy: 0.0000e+00 - val_loss: -619000887246848.0000 - val_accuracy: 0.0000e+00\n",
            "Epoch 55/100\n",
            "13/13 [==============================] - 1s 48ms/step - loss: -588347571437568.0000 - accuracy: 0.0000e+00 - val_loss: -680553003089920.0000 - val_accuracy: 0.0000e+00\n",
            "Epoch 56/100\n",
            "13/13 [==============================] - 1s 47ms/step - loss: -651325347987456.0000 - accuracy: 0.0000e+00 - val_loss: -747939362242560.0000 - val_accuracy: 0.0000e+00\n",
            "Epoch 57/100\n",
            "13/13 [==============================] - 1s 51ms/step - loss: -718277915443200.0000 - accuracy: 0.0000e+00 - val_loss: -820717046202368.0000 - val_accuracy: 0.0000e+00\n",
            "Epoch 58/100\n",
            "13/13 [==============================] - 1s 53ms/step - loss: -780570577600512.0000 - accuracy: 0.0000e+00 - val_loss: -897623133257728.0000 - val_accuracy: 0.0000e+00\n",
            "Epoch 59/100\n",
            "13/13 [==============================] - 1s 49ms/step - loss: -854139542175744.0000 - accuracy: 0.0000e+00 - val_loss: -980803966205952.0000 - val_accuracy: 0.0000e+00\n",
            "Epoch 60/100\n",
            "13/13 [==============================] - 1s 48ms/step - loss: -931826038210560.0000 - accuracy: 0.0000e+00 - val_loss: -1068397206962176.0000 - val_accuracy: 0.0000e+00\n",
            "Epoch 61/100\n",
            "13/13 [==============================] - 1s 49ms/step - loss: -1017013224865792.0000 - accuracy: 0.0000e+00 - val_loss: -1166417554571264.0000 - val_accuracy: 0.0000e+00\n",
            "Epoch 62/100\n",
            "13/13 [==============================] - 1s 50ms/step - loss: -1099194538393600.0000 - accuracy: 0.0000e+00 - val_loss: -1266753896185856.0000 - val_accuracy: 0.0000e+00\n",
            "Epoch 63/100\n",
            "13/13 [==============================] - 1s 49ms/step - loss: -1202925179240448.0000 - accuracy: 0.0000e+00 - val_loss: -1373772670042112.0000 - val_accuracy: 0.0000e+00\n",
            "Epoch 64/100\n",
            "13/13 [==============================] - 1s 50ms/step - loss: -1294606759100416.0000 - accuracy: 0.0000e+00 - val_loss: -1487627152785408.0000 - val_accuracy: 0.0000e+00\n",
            "Epoch 65/100\n",
            "13/13 [==============================] - 1s 51ms/step - loss: -1407871354929152.0000 - accuracy: 0.0000e+00 - val_loss: -1609316058529792.0000 - val_accuracy: 0.0000e+00\n",
            "Epoch 66/100\n",
            "13/13 [==============================] - 1s 47ms/step - loss: -1523802857013248.0000 - accuracy: 0.0000e+00 - val_loss: -1736392061222912.0000 - val_accuracy: 0.0000e+00\n",
            "Epoch 67/100\n",
            "13/13 [==============================] - 1s 49ms/step - loss: -1637688075616256.0000 - accuracy: 0.0000e+00 - val_loss: -1871933981327360.0000 - val_accuracy: 0.0000e+00\n",
            "Epoch 68/100\n",
            "13/13 [==============================] - 1s 50ms/step - loss: -1765456910221312.0000 - accuracy: 0.0000e+00 - val_loss: -2015069403611136.0000 - val_accuracy: 0.0000e+00\n",
            "Epoch 69/100\n",
            "13/13 [==============================] - 1s 50ms/step - loss: -1898412588924928.0000 - accuracy: 0.0000e+00 - val_loss: -2170090208362496.0000 - val_accuracy: 0.0000e+00\n",
            "Epoch 70/100\n",
            "13/13 [==============================] - 1s 50ms/step - loss: -2047168244350976.0000 - accuracy: 0.0000e+00 - val_loss: -2334382907981824.0000 - val_accuracy: 0.0000e+00\n",
            "Epoch 71/100\n",
            "13/13 [==============================] - 1s 48ms/step - loss: -2197212926836736.0000 - accuracy: 0.0000e+00 - val_loss: -2506484395016192.0000 - val_accuracy: 0.0000e+00\n",
            "Epoch 72/100\n",
            "13/13 [==============================] - 1s 48ms/step - loss: -2357427555008512.0000 - accuracy: 0.0000e+00 - val_loss: -2688831258099712.0000 - val_accuracy: 0.0000e+00\n",
            "Epoch 73/100\n",
            "13/13 [==============================] - 1s 49ms/step - loss: -2504963976593408.0000 - accuracy: 0.0000e+00 - val_loss: -2872375880187904.0000 - val_accuracy: 0.0000e+00\n",
            "Epoch 74/100\n",
            "13/13 [==============================] - 1s 48ms/step - loss: -2706329760169984.0000 - accuracy: 0.0000e+00 - val_loss: -3069242685521920.0000 - val_accuracy: 0.0000e+00\n",
            "Epoch 75/100\n",
            "13/13 [==============================] - 1s 49ms/step - loss: -2878389371273216.0000 - accuracy: 0.0000e+00 - val_loss: -3281999527673856.0000 - val_accuracy: 0.0000e+00\n",
            "Epoch 76/100\n",
            "13/13 [==============================] - 1s 48ms/step - loss: -3084254938398720.0000 - accuracy: 0.0000e+00 - val_loss: -3506379356635136.0000 - val_accuracy: 0.0000e+00\n",
            "Epoch 77/100\n",
            "13/13 [==============================] - 1s 46ms/step - loss: -3292891833171968.0000 - accuracy: 0.0000e+00 - val_loss: -3737344175767552.0000 - val_accuracy: 0.0000e+00\n",
            "Epoch 78/100\n",
            "13/13 [==============================] - 1s 48ms/step - loss: -3512145081794560.0000 - accuracy: 0.0000e+00 - val_loss: -3980877948256256.0000 - val_accuracy: 0.0000e+00\n",
            "Epoch 79/100\n",
            "13/13 [==============================] - 1s 48ms/step - loss: -3720911899328512.0000 - accuracy: 0.0000e+00 - val_loss: -4232192859308032.0000 - val_accuracy: 0.0000e+00\n",
            "Epoch 80/100\n",
            "13/13 [==============================] - 1s 48ms/step - loss: -3960872259026944.0000 - accuracy: 0.0000e+00 - val_loss: -4501129484304384.0000 - val_accuracy: 0.0000e+00\n",
            "Epoch 81/100\n",
            "13/13 [==============================] - 1s 49ms/step - loss: -4202862796079104.0000 - accuracy: 0.0000e+00 - val_loss: -4787134040899584.0000 - val_accuracy: 0.0000e+00\n",
            "Epoch 82/100\n",
            "13/13 [==============================] - 1s 46ms/step - loss: -4504088716771328.0000 - accuracy: 0.0000e+00 - val_loss: -5082398010114048.0000 - val_accuracy: 0.0000e+00\n",
            "Epoch 83/100\n",
            "13/13 [==============================] - 1s 44ms/step - loss: -4756884049362944.0000 - accuracy: 0.0000e+00 - val_loss: -5391773094379520.0000 - val_accuracy: 0.0000e+00\n",
            "Epoch 84/100\n",
            "13/13 [==============================] - 1s 46ms/step - loss: -5050676992278528.0000 - accuracy: 0.0000e+00 - val_loss: -5710704480878592.0000 - val_accuracy: 0.0000e+00\n",
            "Epoch 85/100\n",
            "13/13 [==============================] - 1s 47ms/step - loss: -5381747566968832.0000 - accuracy: 0.0000e+00 - val_loss: -6056898709159936.0000 - val_accuracy: 0.0000e+00\n",
            "Epoch 86/100\n",
            "13/13 [==============================] - 1s 46ms/step - loss: -5673580931055616.0000 - accuracy: 0.0000e+00 - val_loss: -6412943981805568.0000 - val_accuracy: 0.0000e+00\n",
            "Epoch 87/100\n",
            "13/13 [==============================] - 1s 47ms/step - loss: -5989118756519936.0000 - accuracy: 0.0000e+00 - val_loss: -6780957180821504.0000 - val_accuracy: 0.0000e+00\n",
            "Epoch 88/100\n",
            "13/13 [==============================] - 1s 47ms/step - loss: -6330395247247360.0000 - accuracy: 0.0000e+00 - val_loss: -7155220630994944.0000 - val_accuracy: 0.0000e+00\n",
            "Epoch 89/100\n",
            "13/13 [==============================] - 1s 46ms/step - loss: -6671960574525440.0000 - accuracy: 0.0000e+00 - val_loss: -7553521402511360.0000 - val_accuracy: 0.0000e+00\n",
            "Epoch 90/100\n",
            "13/13 [==============================] - 1s 50ms/step - loss: -7110514316410880.0000 - accuracy: 0.0000e+00 - val_loss: -7967512763301888.0000 - val_accuracy: 0.0000e+00\n"
          ]
        },
        {
          "name": "stdout",
          "output_type": "stream",
          "text": [
            "Epoch 91/100\n",
            "13/13 [==============================] - 1s 50ms/step - loss: -7415037161373696.0000 - accuracy: 0.0000e+00 - val_loss: -8405305759105024.0000 - val_accuracy: 0.0000e+00\n",
            "Epoch 92/100\n",
            "13/13 [==============================] - 1s 49ms/step - loss: -7856652678070272.0000 - accuracy: 0.0000e+00 - val_loss: -8863594338844672.0000 - val_accuracy: 0.0000e+00\n",
            "Epoch 93/100\n",
            "13/13 [==============================] - 1s 49ms/step - loss: -8252361436823552.0000 - accuracy: 0.0000e+00 - val_loss: -9341682717818880.0000 - val_accuracy: 0.0000e+00\n",
            "Epoch 94/100\n",
            "13/13 [==============================] - 1s 49ms/step - loss: -8724499675480064.0000 - accuracy: 0.0000e+00 - val_loss: -9824032241221632.0000 - val_accuracy: 0.0000e+00\n",
            "Epoch 95/100\n",
            "13/13 [==============================] - 1s 48ms/step - loss: -9105355363581952.0000 - accuracy: 0.0000e+00 - val_loss: -10334355960365056.0000 - val_accuracy: 0.0000e+00\n",
            "Epoch 96/100\n",
            "13/13 [==============================] - 1s 48ms/step - loss: -9670254158413824.0000 - accuracy: 0.0000e+00 - val_loss: -10858422501113856.0000 - val_accuracy: 0.0000e+00\n",
            "Epoch 97/100\n",
            "13/13 [==============================] - 1s 47ms/step - loss: -10144115752697856.0000 - accuracy: 0.0000e+00 - val_loss: -11400099481518080.0000 - val_accuracy: 0.0000e+00\n",
            "Epoch 98/100\n",
            "13/13 [==============================] - 1s 47ms/step - loss: -10621619479248896.0000 - accuracy: 0.0000e+00 - val_loss: -11965199066071040.0000 - val_accuracy: 0.0000e+00\n",
            "Epoch 99/100\n",
            "13/13 [==============================] - 1s 46ms/step - loss: -11123923420708864.0000 - accuracy: 0.0000e+00 - val_loss: -12559637572222976.0000 - val_accuracy: 0.0000e+00\n",
            "Epoch 100/100\n",
            "13/13 [==============================] - 1s 46ms/step - loss: -11671134466473984.0000 - accuracy: 0.0000e+00 - val_loss: -13178587456733184.0000 - val_accuracy: 0.0000e+00\n"
          ]
        }
      ],
      "source": [
        "model_3.compile(optimizer='adam',\n",
        "              loss='binary_crossentropy',\n",
        "              metrics=['accuracy'])\n",
        "hist_3 = model_3.fit(X_train, y_train,\n",
        "          batch_size=32, epochs=100,\n",
        "          validation_data=(X_test, y_test))"
      ]
    },
    {
      "cell_type": "code",
      "execution_count": null,
      "metadata": {
        "id": "5KJXVgQY4zTB",
        "outputId": "6b7283b6-e963-4e2a-da5a-826e2b928caf"
      },
      "outputs": [
        {
          "data": {
            "image/png": "[encoded data removed]",
            "text/plain": [
              "<Figure size 640x480 with 1 Axes>"
            ]
          },
          "metadata": {},
          "output_type": "display_data"
        }
      ],
      "source": [
        "plt.plot(hist_3.history['loss'])\n",
        "plt.plot(hist_3.history['val_loss'])\n",
        "plt.title('Model loss')\n",
        "plt.ylabel('Loss')\n",
        "plt.xlabel('Epoch')\n",
        "plt.legend(['Train', 'Val'], loc='upper right')\n",
        "plt.show()"
      ]
    }
  ],
  "metadata": {
    "kernelspec": {
      "display_name": "Python 3 (ipykernel)",
      "language": "python",
      "name": "python3"
    },
    "language_info": {
      "codemirror_mode": {
        "name": "ipython",
        "version": 3
      },
      "file_extension": ".py",
      "mimetype": "text/x-python",
      "name": "python",
      "nbconvert_exporter": "python",
      "pygments_lexer": "ipython3",
      "version": "3.10.9"
    },
    "papermill": {
      "duration": 21.578429,
      "end_time": "2022-08-10T01:26:38.171120",
      "environment_variables": {},
      "exception": null,
      "input_path": "__notebook__.ipynb",
      "output_path": "__notebook__.ipynb",
      "parameters": {},
      "start_time": "2022-08-10T01:26:16.592691",
      "version": "2.1.0"
    },
    "colab": {
      "provenance": []
    }
  },
  "nbformat": 4,
  "nbformat_minor": 0
}